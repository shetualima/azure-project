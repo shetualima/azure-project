{
  "nbformat": 4,
  "nbformat_minor": 2,
  "metadata": {
    "language_info": {
      "name": "python"
    },
    "kernelspec": {
      "name": "synapse_pyspark",
      "display_name": "python"
    },
    "description": null,
    "save_output": true,
    "synapse_widget": {
      "version": "0.1",
      "state": {
        "8243140b-8edb-4a2d-ac46-e725a46f5c4f": {
          "type": "Synapse.DataFrame",
          "sync_state": {
            "table": {
              "rows": [
                {
                  "0": "Female",
                  "1": "34",
                  "2": "Yes",
                  "3": "1",
                  "4": "2",
                  "5": "5",
                  "6": "3",
                  "7": "7",
                  "8": "6",
                  "9": "4",
                  "10": "Yes",
                  "11": "Returns",
                  "12": "Capital Appreciation",
                  "13": "Wealth Creation",
                  "14": "1-3 years",
                  "15": "Monthly",
                  "16": "20%-30%",
                  "17": "Mutual Fund",
                  "18": "Retirement Plan",
                  "19": "Capital Appreciation",
                  "20": "Better Returns",
                  "21": "Safe Investment",
                  "22": "Fixed Returns",
                  "23": "Newspapers and Magazines"
                },
                {
                  "0": "Female",
                  "1": "23",
                  "2": "Yes",
                  "3": "4",
                  "4": "3",
                  "5": "2",
                  "6": "1",
                  "7": "5",
                  "8": "6",
                  "9": "7",
                  "10": "No",
                  "11": "Locking Period",
                  "12": "Capital Appreciation",
                  "13": "Wealth Creation",
                  "14": "More than 5 years",
                  "15": "Weekly",
                  "16": "20%-30%",
                  "17": "Mutual Fund",
                  "18": "Health Care",
                  "19": "Dividend",
                  "20": "Better Returns",
                  "21": "Safe Investment",
                  "22": "High Interest Rates",
                  "23": "Financial Consultants"
                },
                {
                  "0": "Male",
                  "1": "30",
                  "2": "Yes",
                  "3": "3",
                  "4": "6",
                  "5": "4",
                  "6": "2",
                  "7": "5",
                  "8": "1",
                  "9": "7",
                  "10": "Yes",
                  "11": "Returns",
                  "12": "Capital Appreciation",
                  "13": "Wealth Creation",
                  "14": "3-5 years",
                  "15": "Daily",
                  "16": "20%-30%",
                  "17": "Equity",
                  "18": "Retirement Plan",
                  "19": "Capital Appreciation",
                  "20": "Tax Benefits",
                  "21": "Assured Returns",
                  "22": "Fixed Returns",
                  "23": "Television"
                },
                {
                  "0": "Male",
                  "1": "22",
                  "2": "Yes",
                  "3": "2",
                  "4": "1",
                  "5": "3",
                  "6": "7",
                  "7": "6",
                  "8": "4",
                  "9": "5",
                  "10": "Yes",
                  "11": "Returns",
                  "12": "Income",
                  "13": "Wealth Creation",
                  "14": "Less than 1 year",
                  "15": "Daily",
                  "16": "10%-20%",
                  "17": "Equity",
                  "18": "Retirement Plan",
                  "19": "Dividend",
                  "20": "Fund Diversification",
                  "21": "Tax Incentives",
                  "22": "High Interest Rates",
                  "23": "Internet"
                },
                {
                  "0": "Female",
                  "1": "24",
                  "2": "No",
                  "3": "2",
                  "4": "1",
                  "5": "3",
                  "6": "6",
                  "7": "4",
                  "8": "5",
                  "9": "7",
                  "10": "No",
                  "11": "Returns",
                  "12": "Income",
                  "13": "Wealth Creation",
                  "14": "Less than 1 year",
                  "15": "Daily",
                  "16": "20%-30%",
                  "17": "Equity",
                  "18": "Retirement Plan",
                  "19": "Capital Appreciation",
                  "20": "Better Returns",
                  "21": "Safe Investment",
                  "22": "Risk Free",
                  "23": "Internet"
                },
                {
                  "0": "Female",
                  "1": "24",
                  "2": "No",
                  "3": "7",
                  "4": "5",
                  "5": "4",
                  "6": "6",
                  "7": "3",
                  "8": "1",
                  "9": "2",
                  "10": "No",
                  "11": "Risk",
                  "12": "Capital Appreciation",
                  "13": "Wealth Creation",
                  "14": "1-3 years",
                  "15": "Daily",
                  "16": "30%-40%",
                  "17": "Mutual Fund",
                  "18": "Retirement Plan",
                  "19": "Liquidity",
                  "20": "Fund Diversification",
                  "21": "Safe Investment",
                  "22": "Risk Free",
                  "23": "Internet"
                },
                {
                  "0": "Female",
                  "1": "27",
                  "2": "Yes",
                  "3": "3",
                  "4": "6",
                  "5": "4",
                  "6": "2",
                  "7": "5",
                  "8": "1",
                  "9": "7",
                  "10": "Yes",
                  "11": "Returns",
                  "12": "Capital Appreciation",
                  "13": "Wealth Creation",
                  "14": "3-5 years",
                  "15": "Monthly",
                  "16": "20%-30%",
                  "17": "Equity",
                  "18": "Retirement Plan",
                  "19": "Capital Appreciation",
                  "20": "Better Returns",
                  "21": "Assured Returns",
                  "22": "High Interest Rates",
                  "23": "Financial Consultants"
                },
                {
                  "0": "Male",
                  "1": "21",
                  "2": "Yes",
                  "3": "2",
                  "4": "3",
                  "5": "7",
                  "6": "4",
                  "7": "6",
                  "8": "1",
                  "9": "5",
                  "10": "Yes",
                  "11": "Risk",
                  "12": "Capital Appreciation",
                  "13": "Wealth Creation",
                  "14": "3-5 years",
                  "15": "Monthly",
                  "16": "20%-30%",
                  "17": "Mutual Fund",
                  "18": "Retirement Plan",
                  "19": "Capital Appreciation",
                  "20": "Better Returns",
                  "21": "Assured Returns",
                  "22": "Risk Free",
                  "23": "Newspapers and Magazines"
                },
                {
                  "0": "Male",
                  "1": "35",
                  "2": "Yes",
                  "3": "2",
                  "4": "4",
                  "5": "7",
                  "6": "5",
                  "7": "3",
                  "8": "1",
                  "9": "6",
                  "10": "Yes",
                  "11": "Returns",
                  "12": "Growth",
                  "13": "Savings for Future",
                  "14": "1-3 years",
                  "15": "Weekly",
                  "16": "20%-30%",
                  "17": "Equity",
                  "18": "Retirement Plan",
                  "19": "Capital Appreciation",
                  "20": "Fund Diversification",
                  "21": "Safe Investment",
                  "22": "Fixed Returns",
                  "23": "Television"
                },
                {
                  "0": "Male",
                  "1": "31",
                  "2": "Yes",
                  "3": "1",
                  "4": "3",
                  "5": "7",
                  "6": "4",
                  "7": "5",
                  "8": "2",
                  "9": "6",
                  "10": "Yes",
                  "11": "Returns",
                  "12": "Capital Appreciation",
                  "13": "Wealth Creation",
                  "14": "3-5 years",
                  "15": "Monthly",
                  "16": "30%-40%",
                  "17": "Fixed Deposits",
                  "18": "Retirement Plan",
                  "19": "Capital Appreciation",
                  "20": "Fund Diversification",
                  "21": "Assured Returns",
                  "22": "Fixed Returns",
                  "23": "Newspapers and Magazines"
                }
              ],
              "schema": [
                {
                  "key": "0",
                  "name": "gender",
                  "type": "string"
                },
                {
                  "key": "1",
                  "name": "age",
                  "type": "string"
                },
                {
                  "key": "2",
                  "name": "Investment_Avenues",
                  "type": "string"
                },
                {
                  "key": "3",
                  "name": "Mutual_Funds",
                  "type": "string"
                },
                {
                  "key": "4",
                  "name": "Equity_Market",
                  "type": "string"
                },
                {
                  "key": "5",
                  "name": "Debentures",
                  "type": "string"
                },
                {
                  "key": "6",
                  "name": "Government_Bonds",
                  "type": "string"
                },
                {
                  "key": "7",
                  "name": "Fixed_Deposits",
                  "type": "string"
                },
                {
                  "key": "8",
                  "name": "PPF",
                  "type": "string"
                },
                {
                  "key": "9",
                  "name": "Gold",
                  "type": "string"
                },
                {
                  "key": "10",
                  "name": "Stock_Marktet",
                  "type": "string"
                },
                {
                  "key": "11",
                  "name": "Factor",
                  "type": "string"
                },
                {
                  "key": "12",
                  "name": "Objective",
                  "type": "string"
                },
                {
                  "key": "13",
                  "name": "Purpose",
                  "type": "string"
                },
                {
                  "key": "14",
                  "name": "Duration",
                  "type": "string"
                },
                {
                  "key": "15",
                  "name": "Invest_Monitor",
                  "type": "string"
                },
                {
                  "key": "16",
                  "name": "Expect",
                  "type": "string"
                },
                {
                  "key": "17",
                  "name": "Revenue",
                  "type": "string"
                },
                {
                  "key": "18",
                  "name": "What are your savings objectives?",
                  "type": "string"
                },
                {
                  "key": "19",
                  "name": "Reason_Equity",
                  "type": "string"
                },
                {
                  "key": "20",
                  "name": "Reason_Mutual",
                  "type": "string"
                },
                {
                  "key": "21",
                  "name": "Reason_Bonds",
                  "type": "string"
                },
                {
                  "key": "22",
                  "name": "Reason_FD",
                  "type": "string"
                },
                {
                  "key": "23",
                  "name": "Source",
                  "type": "string"
                }
              ],
              "truncated": false
            },
            "isSummary": false,
            "language": "scala",
            "wranglerEntryContext": {
              "dataframeType": "pyspark"
            }
          },
          "persist_state": {
            "view": {
              "type": "details",
              "tableOptions": {},
              "chartOptions": {
                "chartType": "bar",
                "aggregationType": "count",
                "categoryFieldKeys": [
                  "0"
                ],
                "seriesFieldKeys": [
                  "0"
                ],
                "isStacked": false
              }
            }
          }
        }
      }
    }
  },
  "cells": [
    {
      "cell_type": "code",
      "execution_count": 14,
      "outputs": [
        {
          "output_type": "display_data",
          "data": {
            "application/vnd.livy.statement-meta+json": {
              "spark_pool": "SPARK1",
              "statement_id": 15,
              "statement_ids": [
                15
              ],
              "state": "finished",
              "livy_statement_state": "available",
              "spark_jobs": null,
              "session_id": "0",
              "normalized_state": "finished",
              "queued_time": "2025-02-10T20:03:02.2665937Z",
              "session_start_time": null,
              "execution_start_time": "2025-02-10T20:03:02.3857251Z",
              "execution_finish_time": "2025-02-10T20:03:04.2013827Z",
              "parent_msg_id": "ad8dbc26-f653-4046-a5c9-320ad0ccb1b0"
            },
            "text/plain": "StatementMeta(SPARK1, 0, 15, Finished, Available, Finished)"
          },
          "metadata": {}
        },
        {
          "output_type": "display_data",
          "data": {
            "application/vnd.synapse.widget-view+json": {
              "widget_id": "8243140b-8edb-4a2d-ac46-e725a46f5c4f",
              "widget_type": "Synapse.DataFrame"
            },
            "text/plain": "SynapseWidget(Synapse.DataFrame, 8243140b-8edb-4a2d-ac46-e725a46f5c4f)"
          },
          "metadata": {}
        }
      ],
      "metadata": {
        "microsoft": {
          "language": "python"
        },
        "collapsed": false
      },
      "source": [
        "%%pyspark\r\n",
        "df = spark.read.load(path='abfss://finance-data@financedataforproject1.dfs.core.windows.net/transformed-data/Finance_data.csv/part-00000-tid-4114620289772356260-786f0629-35f8-47c5-80f5-d04ab8a99809-17-1-c000.csv', format='csv',header=True)\r\n",
        "display(df.limit (10))"
      ]
    },
    {
      "cell_type": "code",
      "execution_count": null,
      "outputs": [],
      "metadata": {
        "microsoft": {},
        "jupyter": {
          "source_hidden": false,
          "outputs_hidden": false
        },
        "nteract": {
          "transient": {
            "deleting": false
          }
        },
        "collapsed": false
      },
      "source": [
        "#for original data set\r\n",
        "%%pyspark\r\n",
        "df = spark.read.load(path='abfss://finance-data@financedataforproject1.dfs.core.windows.net/transformed-data/Original_data.csv/part-00000-tid-685408926525903223-baef8b2a-f6ce-464d-ad98-dfab53630c35-16-1-c000.csv', format='csv',header=True)\r\n",
        "display(df.limit (10))"
      ]
    },
    {
      "cell_type": "markdown",
      "metadata": {
        "nteract": {
          "transient": {
            "deleting": false
          }
        }
      },
      "source": [
        "## Using Finance data set(As my Finance dataset and Original dataset both are the same dataset, just has different name)\r\n",
        "### Determine the proportion of male vs. female investors"
      ]
    },
    {
      "cell_type": "code",
      "execution_count": 5,
      "outputs": [
        {
          "output_type": "display_data",
          "data": {
            "application/vnd.livy.statement-meta+json": {
              "spark_pool": "SPARK1",
              "statement_id": 6,
              "statement_ids": [
                6
              ],
              "state": "finished",
              "livy_statement_state": "available",
              "spark_jobs": null,
              "session_id": "0",
              "normalized_state": "finished",
              "queued_time": "2025-02-10T19:43:28.0033505Z",
              "session_start_time": null,
              "execution_start_time": "2025-02-10T19:43:28.1349501Z",
              "execution_finish_time": "2025-02-10T19:43:29.194234Z",
              "parent_msg_id": "5c7f875f-b29b-4752-9b89-6164321bec2b"
            },
            "text/plain": "StatementMeta(SPARK1, 0, 6, Finished, Available, Finished)"
          },
          "metadata": {}
        },
        {
          "output_type": "display_data",
          "data": {
            "text/plain": "<Figure size 640x480 with 1 Axes>",
            "image/png": "[encoded data removed]"
          },
          "metadata": {}
        }
      ],
      "metadata": {
        "jupyter": {
          "source_hidden": false,
          "outputs_hidden": false
        },
        "nteract": {
          "transient": {
            "deleting": false
          }
        }
      },
      "source": [
        "import pandas as pd\r\n",
        "import matplotlib.pyplot as plt  # Import matplotlib.pyplot as plt\r\n",
        "\r\n",
        "# Count gender distribution\r\n",
        "gender_distribution = df.groupBy(\"gender\").count().toPandas()\r\n",
        "\r\n",
        "# Plotting\r\n",
        "gender_distribution.plot(kind='pie', y='count', labels=gender_distribution['gender'], autopct='%1.1f%%')\r\n",
        "plt.title('Gender Distribution of Investors')\r\n",
        "plt.ylabel('')\r\n",
        "plt.show()"
      ]
    },
    {
      "cell_type": "markdown",
      "metadata": {
        "nteract": {
          "transient": {
            "deleting": false
          }
        }
      },
      "source": [
        "### Understand the age demographics of investors base"
      ]
    },
    {
      "cell_type": "code",
      "execution_count": 12,
      "outputs": [
        {
          "output_type": "display_data",
          "data": {
            "application/vnd.livy.statement-meta+json": {
              "spark_pool": "SPARK1",
              "statement_id": 13,
              "statement_ids": [
                13
              ],
              "state": "finished",
              "livy_statement_state": "available",
              "spark_jobs": null,
              "session_id": "0",
              "normalized_state": "finished",
              "queued_time": "2025-02-10T19:58:26.6299093Z",
              "session_start_time": null,
              "execution_start_time": "2025-02-10T19:58:28.0917795Z",
              "execution_finish_time": "2025-02-10T19:58:28.2638618Z",
              "parent_msg_id": "dcde5e9d-7c87-4dcb-860f-e389abd8d087"
            },
            "text/plain": "StatementMeta(SPARK1, 0, 13, Finished, Available, Finished)"
          },
          "metadata": {}
        },
        {
          "output_type": "display_data",
          "data": {
            "text/plain": "<Figure size 640x480 with 1 Axes>",
            "image/png": "[encoded data removed]"
          },
          "metadata": {}
        }
      ],
      "metadata": {
        "jupyter": {
          "source_hidden": false,
          "outputs_hidden": false
        },
        "nteract": {
          "transient": {
            "deleting": false
          }
        }
      },
      "source": [
        "#age_distribution.info() \r\n",
        "age_distribution = df.select(\"age\").toPandas()\r\n",
        "age_distribution[\"age\"] = pd.to_numeric(age_distribution[\"age\"], errors='coerce')\r\n",
        "\r\n",
        "# Plotting\r\n",
        "age_distribution.plot(kind='hist', bins=20)\r\n",
        "plt.title('Age Distribution of Investors')\r\n",
        "plt.xlabel('Age')\r\n",
        "plt.ylabel('Frequency')\r\n",
        "plt.show()"
      ]
    },
    {
      "cell_type": "markdown",
      "metadata": {
        "nteract": {
          "transient": {
            "deleting": false
          }
        }
      },
      "source": [
        "### Compare the popularity of different investment avenues"
      ]
    },
    {
      "cell_type": "code",
      "execution_count": 59,
      "outputs": [
        {
          "output_type": "display_data",
          "data": {
            "application/vnd.livy.statement-meta+json": {
              "spark_pool": "SPARK1",
              "statement_id": 11,
              "statement_ids": [
                11
              ],
              "state": "finished",
              "livy_statement_state": "available",
              "spark_jobs": null,
              "session_id": "2",
              "normalized_state": "finished",
              "queued_time": "2025-02-10T23:51:31.9187948Z",
              "session_start_time": null,
              "execution_start_time": "2025-02-10T23:51:32.0430741Z",
              "execution_finish_time": "2025-02-10T23:51:32.2306936Z",
              "parent_msg_id": "eaa15cdc-ddb0-49ea-9d71-d5d79d6e9e49"
            },
            "text/plain": "StatementMeta(SPARK1, 2, 11, Finished, Available, Finished)"
          },
          "metadata": {}
        },
        {
          "output_type": "display_data",
          "data": {
            "application/vnd.plotly.v1+json": {
              "data": [
                {
                  "alignmentgroup": "True",
                  "box": {
                    "visible": true
                  },
                  "hovertemplate": "Investment_Avenues=%{x}<br>Number_of_Investors=%{y}<extra></extra>",
                  "legendgroup": "Debentures",
                  "marker": {
                    "color": "#636efa"
                  },
                  "name": "Debentures",
                  "offsetgroup": "Debentures",
                  "orientation": "v",
                  "points": "all",
                  "scalegroup": "True",
                  "showlegend": true,
                  "x": [
                    "Debentures",
                    "Debentures",
                    "Debentures",
                    "Debentures",
                    "Debentures",
                    "Debentures",
                    "Debentures",
                    "Debentures",
                    "Debentures",
                    "Debentures",
                    "Debentures",
                    "Debentures",
                    "Debentures",
                    "Debentures",
                    "Debentures",
                    "Debentures",
                    "Debentures",
                    "Debentures",
                    "Debentures",
                    "Debentures",
                    "Debentures",
                    "Debentures",
                    "Debentures",
                    "Debentures",
                    "Debentures",
                    "Debentures",
                    "Debentures",
                    "Debentures",
                    "Debentures",
                    "Debentures",
                    "Debentures",
                    "Debentures",
                    "Debentures",
                    "Debentures",
                    "Debentures",
                    "Debentures",
                    "Debentures",
                    "Debentures",
                    "Debentures",
                    "Debentures",
                    "Debentures",
                    "Debentures",
                    "Debentures",
                    "Debentures",
                    "Debentures",
                    "Debentures",
                    "Debentures",
                    "Debentures",
                    "Debentures",
                    "Debentures",
                    "Debentures",
                    "Debentures",
                    "Debentures",
                    "Debentures",
                    "Debentures",
                    "Debentures",
                    "Debentures",
                    "Debentures",
                    "Debentures",
                    "Debentures",
                    "Debentures",
                    "Debentures",
                    "Debentures",
                    "Debentures",
                    "Debentures",
                    "Debentures",
                    "Debentures",
                    "Debentures",
                    "Debentures",
                    "Debentures",
                    "Debentures",
                    "Debentures",
                    "Debentures",
                    "Debentures",
                    "Debentures",
                    "Debentures",
                    "Debentures",
                    "Debentures",
                    "Debentures",
                    "Debentures",
                    "Debentures",
                    "Debentures",
                    "Debentures",
                    "Debentures",
                    "Debentures",
                    "Debentures",
                    "Debentures",
                    "Debentures",
                    "Debentures",
                    "Debentures",
                    "Debentures",
                    "Debentures",
                    "Debentures",
                    "Debentures",
                    "Debentures",
                    "Debentures",
                    "Debentures",
                    "Debentures",
                    "Debentures",
                    "Debentures"
                  ],
                  "x0": " ",
                  "xaxis": "x",
                  "y": [
                    698,
                    880,
                    730,
                    498,
                    266,
                    208,
                    226,
                    528,
                    705,
                    507,
                    230,
                    777,
                    787,
                    121,
                    107,
                    808,
                    526,
                    195,
                    429,
                    257,
                    800,
                    888,
                    258,
                    130,
                    953,
                    472,
                    216,
                    551,
                    997,
                    647,
                    915,
                    931,
                    275,
                    514,
                    581,
                    988,
                    75,
                    271,
                    359,
                    761,
                    909,
                    465,
                    432,
                    463,
                    294,
                    754,
                    448,
                    644,
                    245,
                    224,
                    572,
                    932,
                    392,
                    341,
                    790,
                    750,
                    829,
                    406,
                    377,
                    179,
                    608,
                    440,
                    398,
                    667,
                    752,
                    339,
                    171,
                    612,
                    865,
                    558,
                    889,
                    513,
                    450,
                    94,
                    672,
                    815,
                    70,
                    358,
                    463,
                    388,
                    747,
                    504,
                    263,
                    849,
                    301,
                    384,
                    614,
                    440,
                    570,
                    650,
                    536,
                    613,
                    319,
                    638,
                    277,
                    855,
                    596,
                    420,
                    811,
                    841
                  ],
                  "y0": " ",
                  "yaxis": "y",
                  "type": "violin"
                },
                {
                  "alignmentgroup": "True",
                  "box": {
                    "visible": true
                  },
                  "hovertemplate": "Investment_Avenues=%{x}<br>Number_of_Investors=%{y}<extra></extra>",
                  "legendgroup": "Gold",
                  "marker": {
                    "color": "#EF553B"
                  },
                  "name": "Gold",
                  "offsetgroup": "Gold",
                  "orientation": "v",
                  "points": "all",
                  "scalegroup": "True",
                  "showlegend": true,
                  "x": [
                    "Gold",
                    "Gold",
                    "Gold",
                    "Gold",
                    "Gold",
                    "Gold",
                    "Gold",
                    "Gold",
                    "Gold",
                    "Gold",
                    "Gold",
                    "Gold",
                    "Gold",
                    "Gold",
                    "Gold",
                    "Gold",
                    "Gold",
                    "Gold",
                    "Gold",
                    "Gold",
                    "Gold",
                    "Gold",
                    "Gold",
                    "Gold",
                    "Gold",
                    "Gold",
                    "Gold",
                    "Gold",
                    "Gold",
                    "Gold",
                    "Gold",
                    "Gold",
                    "Gold",
                    "Gold",
                    "Gold",
                    "Gold",
                    "Gold",
                    "Gold",
                    "Gold",
                    "Gold",
                    "Gold",
                    "Gold",
                    "Gold",
                    "Gold",
                    "Gold",
                    "Gold",
                    "Gold",
                    "Gold",
                    "Gold",
                    "Gold",
                    "Gold",
                    "Gold",
                    "Gold",
                    "Gold",
                    "Gold",
                    "Gold",
                    "Gold",
                    "Gold",
                    "Gold",
                    "Gold",
                    "Gold",
                    "Gold",
                    "Gold",
                    "Gold",
                    "Gold",
                    "Gold",
                    "Gold",
                    "Gold",
                    "Gold",
                    "Gold",
                    "Gold",
                    "Gold",
                    "Gold",
                    "Gold",
                    "Gold",
                    "Gold",
                    "Gold",
                    "Gold",
                    "Gold",
                    "Gold",
                    "Gold",
                    "Gold",
                    "Gold",
                    "Gold",
                    "Gold",
                    "Gold",
                    "Gold",
                    "Gold",
                    "Gold",
                    "Gold",
                    "Gold",
                    "Gold",
                    "Gold",
                    "Gold",
                    "Gold",
                    "Gold",
                    "Gold",
                    "Gold",
                    "Gold",
                    "Gold"
                  ],
                  "x0": " ",
                  "xaxis": "x",
                  "y": [
                    664,
                    915,
                    419,
                    630,
                    421,
                    482,
                    799,
                    304,
                    106,
                    529,
                    710,
                    663,
                    517,
                    460,
                    271,
                    267,
                    646,
                    350,
                    157,
                    296,
                    861,
                    705,
                    988,
                    806,
                    308,
                    467,
                    913,
                    260,
                    836,
                    517,
                    799,
                    298,
                    634,
                    271,
                    182,
                    200,
                    990,
                    575,
                    356,
                    396,
                    141,
                    510,
                    370,
                    537,
                    532,
                    497,
                    198,
                    109,
                    593,
                    689,
                    792,
                    520,
                    320,
                    189,
                    139,
                    931,
                    70,
                    79,
                    492,
                    199,
                    422,
                    301,
                    835,
                    719,
                    335,
                    223,
                    825,
                    668,
                    622,
                    199,
                    84,
                    272,
                    209,
                    852,
                    420,
                    394,
                    345,
                    102,
                    794,
                    568,
                    365,
                    575,
                    292,
                    495,
                    252,
                    541,
                    385,
                    746,
                    66,
                    787,
                    175,
                    215,
                    466,
                    396,
                    849,
                    809,
                    502,
                    421,
                    477,
                    59
                  ],
                  "y0": " ",
                  "yaxis": "y",
                  "type": "violin"
                },
                {
                  "alignmentgroup": "True",
                  "box": {
                    "visible": true
                  },
                  "hovertemplate": "Investment_Avenues=%{x}<br>Number_of_Investors=%{y}<extra></extra>",
                  "legendgroup": "Government_Bonds",
                  "marker": {
                    "color": "#00cc96"
                  },
                  "name": "Government_Bonds",
                  "offsetgroup": "Government_Bonds",
                  "orientation": "v",
                  "points": "all",
                  "scalegroup": "True",
                  "showlegend": true,
                  "x": [
                    "Government_Bonds",
                    "Government_Bonds",
                    "Government_Bonds",
                    "Government_Bonds",
                    "Government_Bonds",
                    "Government_Bonds",
                    "Government_Bonds",
                    "Government_Bonds",
                    "Government_Bonds",
                    "Government_Bonds",
                    "Government_Bonds",
                    "Government_Bonds",
                    "Government_Bonds",
                    "Government_Bonds",
                    "Government_Bonds",
                    "Government_Bonds",
                    "Government_Bonds",
                    "Government_Bonds",
                    "Government_Bonds",
                    "Government_Bonds",
                    "Government_Bonds",
                    "Government_Bonds",
                    "Government_Bonds",
                    "Government_Bonds",
                    "Government_Bonds",
                    "Government_Bonds",
                    "Government_Bonds",
                    "Government_Bonds",
                    "Government_Bonds",
                    "Government_Bonds",
                    "Government_Bonds",
                    "Government_Bonds",
                    "Government_Bonds",
                    "Government_Bonds",
                    "Government_Bonds",
                    "Government_Bonds",
                    "Government_Bonds",
                    "Government_Bonds",
                    "Government_Bonds",
                    "Government_Bonds",
                    "Government_Bonds",
                    "Government_Bonds",
                    "Government_Bonds",
                    "Government_Bonds",
                    "Government_Bonds",
                    "Government_Bonds",
                    "Government_Bonds",
                    "Government_Bonds",
                    "Government_Bonds",
                    "Government_Bonds",
                    "Government_Bonds",
                    "Government_Bonds",
                    "Government_Bonds",
                    "Government_Bonds",
                    "Government_Bonds",
                    "Government_Bonds",
                    "Government_Bonds",
                    "Government_Bonds",
                    "Government_Bonds",
                    "Government_Bonds",
                    "Government_Bonds",
                    "Government_Bonds",
                    "Government_Bonds",
                    "Government_Bonds",
                    "Government_Bonds",
                    "Government_Bonds",
                    "Government_Bonds",
                    "Government_Bonds",
                    "Government_Bonds",
                    "Government_Bonds",
                    "Government_Bonds",
                    "Government_Bonds",
                    "Government_Bonds",
                    "Government_Bonds",
                    "Government_Bonds",
                    "Government_Bonds",
                    "Government_Bonds",
                    "Government_Bonds",
                    "Government_Bonds",
                    "Government_Bonds",
                    "Government_Bonds",
                    "Government_Bonds",
                    "Government_Bonds",
                    "Government_Bonds",
                    "Government_Bonds",
                    "Government_Bonds",
                    "Government_Bonds",
                    "Government_Bonds",
                    "Government_Bonds",
                    "Government_Bonds",
                    "Government_Bonds",
                    "Government_Bonds",
                    "Government_Bonds",
                    "Government_Bonds",
                    "Government_Bonds",
                    "Government_Bonds",
                    "Government_Bonds",
                    "Government_Bonds",
                    "Government_Bonds",
                    "Government_Bonds"
                  ],
                  "x0": " ",
                  "xaxis": "x",
                  "y": [
                    984,
                    223,
                    727,
                    909,
                    973,
                    930,
                    842,
                    316,
                    426,
                    669,
                    394,
                    862,
                    493,
                    851,
                    171,
                    443,
                    607,
                    699,
                    561,
                    402,
                    248,
                    627,
                    859,
                    998,
                    897,
                    405,
                    865,
                    859,
                    664,
                    746,
                    240,
                    258,
                    662,
                    603,
                    228,
                    91,
                    916,
                    653,
                    974,
                    109,
                    777,
                    53,
                    465,
                    134,
                    459,
                    558,
                    570,
                    235,
                    820,
                    109,
                    542,
                    312,
                    232,
                    192,
                    198,
                    924,
                    80,
                    674,
                    65,
                    530,
                    682,
                    949,
                    121,
                    462,
                    187,
                    820,
                    392,
                    787,
                    573,
                    877,
                    278,
                    328,
                    240,
                    82,
                    966,
                    208,
                    949,
                    510,
                    464,
                    184,
                    303,
                    725,
                    670,
                    642,
                    327,
                    628,
                    226,
                    458,
                    317,
                    544,
                    308,
                    550,
                    106,
                    257,
                    101,
                    677,
                    994,
                    60,
                    284,
                    619
                  ],
                  "y0": " ",
                  "yaxis": "y",
                  "type": "violin"
                },
                {
                  "alignmentgroup": "True",
                  "box": {
                    "visible": true
                  },
                  "hovertemplate": "Investment_Avenues=%{x}<br>Number_of_Investors=%{y}<extra></extra>",
                  "legendgroup": "Mutual_Funds",
                  "marker": {
                    "color": "#ab63fa"
                  },
                  "name": "Mutual_Funds",
                  "offsetgroup": "Mutual_Funds",
                  "orientation": "v",
                  "points": "all",
                  "scalegroup": "True",
                  "showlegend": true,
                  "x": [
                    "Mutual_Funds",
                    "Mutual_Funds",
                    "Mutual_Funds",
                    "Mutual_Funds",
                    "Mutual_Funds",
                    "Mutual_Funds",
                    "Mutual_Funds",
                    "Mutual_Funds",
                    "Mutual_Funds",
                    "Mutual_Funds",
                    "Mutual_Funds",
                    "Mutual_Funds",
                    "Mutual_Funds",
                    "Mutual_Funds",
                    "Mutual_Funds",
                    "Mutual_Funds",
                    "Mutual_Funds",
                    "Mutual_Funds",
                    "Mutual_Funds",
                    "Mutual_Funds",
                    "Mutual_Funds",
                    "Mutual_Funds",
                    "Mutual_Funds",
                    "Mutual_Funds",
                    "Mutual_Funds",
                    "Mutual_Funds",
                    "Mutual_Funds",
                    "Mutual_Funds",
                    "Mutual_Funds",
                    "Mutual_Funds",
                    "Mutual_Funds",
                    "Mutual_Funds",
                    "Mutual_Funds",
                    "Mutual_Funds",
                    "Mutual_Funds",
                    "Mutual_Funds",
                    "Mutual_Funds",
                    "Mutual_Funds",
                    "Mutual_Funds",
                    "Mutual_Funds",
                    "Mutual_Funds",
                    "Mutual_Funds",
                    "Mutual_Funds",
                    "Mutual_Funds",
                    "Mutual_Funds",
                    "Mutual_Funds",
                    "Mutual_Funds",
                    "Mutual_Funds",
                    "Mutual_Funds",
                    "Mutual_Funds",
                    "Mutual_Funds",
                    "Mutual_Funds",
                    "Mutual_Funds",
                    "Mutual_Funds",
                    "Mutual_Funds",
                    "Mutual_Funds",
                    "Mutual_Funds",
                    "Mutual_Funds",
                    "Mutual_Funds",
                    "Mutual_Funds",
                    "Mutual_Funds",
                    "Mutual_Funds",
                    "Mutual_Funds",
                    "Mutual_Funds",
                    "Mutual_Funds",
                    "Mutual_Funds",
                    "Mutual_Funds",
                    "Mutual_Funds",
                    "Mutual_Funds",
                    "Mutual_Funds",
                    "Mutual_Funds",
                    "Mutual_Funds",
                    "Mutual_Funds",
                    "Mutual_Funds",
                    "Mutual_Funds",
                    "Mutual_Funds",
                    "Mutual_Funds",
                    "Mutual_Funds",
                    "Mutual_Funds",
                    "Mutual_Funds",
                    "Mutual_Funds",
                    "Mutual_Funds",
                    "Mutual_Funds",
                    "Mutual_Funds",
                    "Mutual_Funds",
                    "Mutual_Funds",
                    "Mutual_Funds",
                    "Mutual_Funds",
                    "Mutual_Funds",
                    "Mutual_Funds",
                    "Mutual_Funds",
                    "Mutual_Funds",
                    "Mutual_Funds",
                    "Mutual_Funds",
                    "Mutual_Funds",
                    "Mutual_Funds",
                    "Mutual_Funds",
                    "Mutual_Funds",
                    "Mutual_Funds",
                    "Mutual_Funds"
                  ],
                  "x0": " ",
                  "xaxis": "x",
                  "y": [
                    658,
                    274,
                    601,
                    389,
                    62,
                    794,
                    802,
                    788,
                    669,
                    166,
                    346,
                    694,
                    912,
                    493,
                    361,
                    436,
                    474,
                    243,
                    364,
                    725,
                    341,
                    120,
                    283,
                    748,
                    368,
                    299,
                    734,
                    98,
                    635,
                    775,
                    257,
                    822,
                    483,
                    972,
                    654,
                    609,
                    687,
                    875,
                    800,
                    171,
                    601,
                    660,
                    876,
                    157,
                    152,
                    940,
                    354,
                    992,
                    394,
                    558,
                    813,
                    699,
                    951,
                    965,
                    494,
                    640,
                    288,
                    418,
                    485,
                    201,
                    737,
                    865,
                    740,
                    994,
                    804,
                    203,
                    829,
                    561,
                    378,
                    176,
                    397,
                    345,
                    629,
                    279,
                    700,
                    576,
                    778,
                    383,
                    239,
                    432,
                    489,
                    887,
                    71,
                    426,
                    854,
                    728,
                    221,
                    147,
                    188,
                    247,
                    965,
                    924,
                    263,
                    498,
                    90,
                    671,
                    405,
                    919,
                    979,
                    544
                  ],
                  "y0": " ",
                  "yaxis": "y",
                  "type": "violin"
                },
                {
                  "alignmentgroup": "True",
                  "box": {
                    "visible": true
                  },
                  "hovertemplate": "Investment_Avenues=%{x}<br>Number_of_Investors=%{y}<extra></extra>",
                  "legendgroup": "Equity_Market",
                  "marker": {
                    "color": "#FFA15A"
                  },
                  "name": "Equity_Market",
                  "offsetgroup": "Equity_Market",
                  "orientation": "v",
                  "points": "all",
                  "scalegroup": "True",
                  "showlegend": true,
                  "x": [
                    "Equity_Market",
                    "Equity_Market",
                    "Equity_Market",
                    "Equity_Market",
                    "Equity_Market",
                    "Equity_Market",
                    "Equity_Market",
                    "Equity_Market",
                    "Equity_Market",
                    "Equity_Market",
                    "Equity_Market",
                    "Equity_Market",
                    "Equity_Market",
                    "Equity_Market",
                    "Equity_Market",
                    "Equity_Market",
                    "Equity_Market",
                    "Equity_Market",
                    "Equity_Market",
                    "Equity_Market",
                    "Equity_Market",
                    "Equity_Market",
                    "Equity_Market",
                    "Equity_Market",
                    "Equity_Market",
                    "Equity_Market",
                    "Equity_Market",
                    "Equity_Market",
                    "Equity_Market",
                    "Equity_Market",
                    "Equity_Market",
                    "Equity_Market",
                    "Equity_Market",
                    "Equity_Market",
                    "Equity_Market",
                    "Equity_Market",
                    "Equity_Market",
                    "Equity_Market",
                    "Equity_Market",
                    "Equity_Market",
                    "Equity_Market",
                    "Equity_Market",
                    "Equity_Market",
                    "Equity_Market",
                    "Equity_Market",
                    "Equity_Market",
                    "Equity_Market",
                    "Equity_Market",
                    "Equity_Market",
                    "Equity_Market",
                    "Equity_Market",
                    "Equity_Market",
                    "Equity_Market",
                    "Equity_Market",
                    "Equity_Market",
                    "Equity_Market",
                    "Equity_Market",
                    "Equity_Market",
                    "Equity_Market",
                    "Equity_Market",
                    "Equity_Market",
                    "Equity_Market",
                    "Equity_Market",
                    "Equity_Market",
                    "Equity_Market",
                    "Equity_Market",
                    "Equity_Market",
                    "Equity_Market",
                    "Equity_Market",
                    "Equity_Market",
                    "Equity_Market",
                    "Equity_Market",
                    "Equity_Market",
                    "Equity_Market",
                    "Equity_Market",
                    "Equity_Market",
                    "Equity_Market",
                    "Equity_Market",
                    "Equity_Market",
                    "Equity_Market",
                    "Equity_Market",
                    "Equity_Market",
                    "Equity_Market",
                    "Equity_Market",
                    "Equity_Market",
                    "Equity_Market",
                    "Equity_Market",
                    "Equity_Market",
                    "Equity_Market",
                    "Equity_Market",
                    "Equity_Market",
                    "Equity_Market",
                    "Equity_Market",
                    "Equity_Market",
                    "Equity_Market",
                    "Equity_Market",
                    "Equity_Market",
                    "Equity_Market",
                    "Equity_Market",
                    "Equity_Market"
                  ],
                  "x0": " ",
                  "xaxis": "x",
                  "y": [
                    59,
                    879,
                    263,
                    703,
                    877,
                    914,
                    67,
                    621,
                    699,
                    758,
                    595,
                    589,
                    608,
                    741,
                    887,
                    307,
                    601,
                    168,
                    289,
                    527,
                    870,
                    691,
                    669,
                    322,
                    178,
                    839,
                    91,
                    797,
                    963,
                    440,
                    388,
                    924,
                    306,
                    986,
                    72,
                    505,
                    985,
                    804,
                    716,
                    648,
                    685,
                    405,
                    849,
                    873,
                    258,
                    968,
                    75,
                    543,
                    770,
                    406,
                    81,
                    795,
                    804,
                    53,
                    175,
                    604,
                    647,
                    943,
                    707,
                    496,
                    657,
                    172,
                    841,
                    304,
                    887,
                    971,
                    970,
                    815,
                    193,
                    663,
                    611,
                    502,
                    398,
                    376,
                    184,
                    912,
                    107,
                    730,
                    83,
                    665,
                    360,
                    277,
                    780,
                    756,
                    141,
                    195,
                    957,
                    385,
                    296,
                    87,
                    811,
                    282,
                    782,
                    877,
                    444,
                    423,
                    710,
                    525,
                    705,
                    590
                  ],
                  "y0": " ",
                  "yaxis": "y",
                  "type": "violin"
                },
                {
                  "alignmentgroup": "True",
                  "box": {
                    "visible": true
                  },
                  "hovertemplate": "Investment_Avenues=%{x}<br>Number_of_Investors=%{y}<extra></extra>",
                  "legendgroup": "PPF",
                  "marker": {
                    "color": "#19d3f3"
                  },
                  "name": "PPF",
                  "offsetgroup": "PPF",
                  "orientation": "v",
                  "points": "all",
                  "scalegroup": "True",
                  "showlegend": true,
                  "x": [
                    "PPF",
                    "PPF",
                    "PPF",
                    "PPF",
                    "PPF",
                    "PPF",
                    "PPF",
                    "PPF",
                    "PPF",
                    "PPF",
                    "PPF",
                    "PPF",
                    "PPF",
                    "PPF",
                    "PPF",
                    "PPF",
                    "PPF",
                    "PPF",
                    "PPF",
                    "PPF",
                    "PPF",
                    "PPF",
                    "PPF",
                    "PPF",
                    "PPF",
                    "PPF",
                    "PPF",
                    "PPF",
                    "PPF",
                    "PPF",
                    "PPF",
                    "PPF",
                    "PPF",
                    "PPF",
                    "PPF",
                    "PPF",
                    "PPF",
                    "PPF",
                    "PPF",
                    "PPF",
                    "PPF",
                    "PPF",
                    "PPF",
                    "PPF",
                    "PPF",
                    "PPF",
                    "PPF",
                    "PPF",
                    "PPF",
                    "PPF",
                    "PPF",
                    "PPF",
                    "PPF",
                    "PPF",
                    "PPF",
                    "PPF",
                    "PPF",
                    "PPF",
                    "PPF",
                    "PPF",
                    "PPF",
                    "PPF",
                    "PPF",
                    "PPF",
                    "PPF",
                    "PPF",
                    "PPF",
                    "PPF",
                    "PPF",
                    "PPF",
                    "PPF",
                    "PPF",
                    "PPF",
                    "PPF",
                    "PPF",
                    "PPF",
                    "PPF",
                    "PPF",
                    "PPF",
                    "PPF",
                    "PPF",
                    "PPF",
                    "PPF",
                    "PPF",
                    "PPF",
                    "PPF",
                    "PPF",
                    "PPF",
                    "PPF",
                    "PPF",
                    "PPF",
                    "PPF",
                    "PPF",
                    "PPF",
                    "PPF",
                    "PPF",
                    "PPF",
                    "PPF",
                    "PPF",
                    "PPF"
                  ],
                  "x0": " ",
                  "xaxis": "x",
                  "y": [
                    885,
                    279,
                    720,
                    622,
                    792,
                    540,
                    659,
                    174,
                    432,
                    700,
                    876,
                    125,
                    242,
                    767,
                    941,
                    678,
                    376,
                    717,
                    788,
                    631,
                    877,
                    214,
                    610,
                    766,
                    306,
                    598,
                    114,
                    430,
                    394,
                    250,
                    171,
                    775,
                    946,
                    518,
                    597,
                    118,
                    774,
                    108,
                    289,
                    86,
                    545,
                    930,
                    318,
                    842,
                    192,
                    371,
                    434,
                    900,
                    677,
                    979,
                    981,
                    349,
                    294,
                    803,
                    318,
                    439,
                    933,
                    184,
                    226,
                    953,
                    464,
                    797,
                    904,
                    237,
                    526,
                    414,
                    555,
                    87,
                    318,
                    844,
                    357,
                    475,
                    760,
                    452,
                    339,
                    892,
                    946,
                    348,
                    215,
                    981,
                    203,
                    485,
                    281,
                    513,
                    403,
                    992,
                    863,
                    227,
                    839,
                    867,
                    346,
                    320,
                    770,
                    412,
                    473,
                    395,
                    707,
                    106,
                    941,
                    170
                  ],
                  "y0": " ",
                  "yaxis": "y",
                  "type": "violin"
                }
              ],
              "layout": {
                "template": {
                  "data": {
                    "barpolar": [
                      {
                        "marker": {
                          "line": {
                            "color": "white",
                            "width": 0.5
                          },
                          "pattern": {
                            "fillmode": "overlay",
                            "size": 10,
                            "solidity": 0.2
                          }
                        },
                        "type": "barpolar"
                      }
                    ],
                    "bar": [
                      {
                        "error_x": {
                          "color": "#2a3f5f"
                        },
                        "error_y": {
                          "color": "#2a3f5f"
                        },
                        "marker": {
                          "line": {
                            "color": "white",
                            "width": 0.5
                          },
                          "pattern": {
                            "fillmode": "overlay",
                            "size": 10,
                            "solidity": 0.2
                          }
                        },
                        "type": "bar"
                      }
                    ],
                    "carpet": [
                      {
                        "aaxis": {
                          "endlinecolor": "#2a3f5f",
                          "gridcolor": "#C8D4E3",
                          "linecolor": "#C8D4E3",
                          "minorgridcolor": "#C8D4E3",
                          "startlinecolor": "#2a3f5f"
                        },
                        "baxis": {
                          "endlinecolor": "#2a3f5f",
                          "gridcolor": "#C8D4E3",
                          "linecolor": "#C8D4E3",
                          "minorgridcolor": "#C8D4E3",
                          "startlinecolor": "#2a3f5f"
                        },
                        "type": "carpet"
                      }
                    ],
                    "choropleth": [
                      {
                        "colorbar": {
                          "outlinewidth": 0,
                          "ticks": ""
                        },
                        "type": "choropleth"
                      }
                    ],
                    "contourcarpet": [
                      {
                        "colorbar": {
                          "outlinewidth": 0,
                          "ticks": ""
                        },
                        "type": "contourcarpet"
                      }
                    ],
                    "contour": [
                      {
                        "colorbar": {
                          "outlinewidth": 0,
                          "ticks": ""
                        },
                        "colorscale": [
                          [
                            0,
                            "#0d0887"
                          ],
                          [
                            0.1111111111111111,
                            "#46039f"
                          ],
                          [
                            0.2222222222222222,
                            "#7201a8"
                          ],
                          [
                            0.3333333333333333,
                            "#9c179e"
                          ],
                          [
                            0.4444444444444444,
                            "#bd3786"
                          ],
                          [
                            0.5555555555555556,
                            "#d8576b"
                          ],
                          [
                            0.6666666666666666,
                            "#ed7953"
                          ],
                          [
                            0.7777777777777778,
                            "#fb9f3a"
                          ],
                          [
                            0.8888888888888888,
                            "#fdca26"
                          ],
                          [
                            1,
                            "#f0f921"
                          ]
                        ],
                        "type": "contour"
                      }
                    ],
                    "heatmapgl": [
                      {
                        "colorbar": {
                          "outlinewidth": 0,
                          "ticks": ""
                        },
                        "colorscale": [
                          [
                            0,
                            "#0d0887"
                          ],
                          [
                            0.1111111111111111,
                            "#46039f"
                          ],
                          [
                            0.2222222222222222,
                            "#7201a8"
                          ],
                          [
                            0.3333333333333333,
                            "#9c179e"
                          ],
                          [
                            0.4444444444444444,
                            "#bd3786"
                          ],
                          [
                            0.5555555555555556,
                            "#d8576b"
                          ],
                          [
                            0.6666666666666666,
                            "#ed7953"
                          ],
                          [
                            0.7777777777777778,
                            "#fb9f3a"
                          ],
                          [
                            0.8888888888888888,
                            "#fdca26"
                          ],
                          [
                            1,
                            "#f0f921"
                          ]
                        ],
                        "type": "heatmapgl"
                      }
                    ],
                    "heatmap": [
                      {
                        "colorbar": {
                          "outlinewidth": 0,
                          "ticks": ""
                        },
                        "colorscale": [
                          [
                            0,
                            "#0d0887"
                          ],
                          [
                            0.1111111111111111,
                            "#46039f"
                          ],
                          [
                            0.2222222222222222,
                            "#7201a8"
                          ],
                          [
                            0.3333333333333333,
                            "#9c179e"
                          ],
                          [
                            0.4444444444444444,
                            "#bd3786"
                          ],
                          [
                            0.5555555555555556,
                            "#d8576b"
                          ],
                          [
                            0.6666666666666666,
                            "#ed7953"
                          ],
                          [
                            0.7777777777777778,
                            "#fb9f3a"
                          ],
                          [
                            0.8888888888888888,
                            "#fdca26"
                          ],
                          [
                            1,
                            "#f0f921"
                          ]
                        ],
                        "type": "heatmap"
                      }
                    ],
                    "histogram2dcontour": [
                      {
                        "colorbar": {
                          "outlinewidth": 0,
                          "ticks": ""
                        },
                        "colorscale": [
                          [
                            0,
                            "#0d0887"
                          ],
                          [
                            0.1111111111111111,
                            "#46039f"
                          ],
                          [
                            0.2222222222222222,
                            "#7201a8"
                          ],
                          [
                            0.3333333333333333,
                            "#9c179e"
                          ],
                          [
                            0.4444444444444444,
                            "#bd3786"
                          ],
                          [
                            0.5555555555555556,
                            "#d8576b"
                          ],
                          [
                            0.6666666666666666,
                            "#ed7953"
                          ],
                          [
                            0.7777777777777778,
                            "#fb9f3a"
                          ],
                          [
                            0.8888888888888888,
                            "#fdca26"
                          ],
                          [
                            1,
                            "#f0f921"
                          ]
                        ],
                        "type": "histogram2dcontour"
                      }
                    ],
                    "histogram2d": [
                      {
                        "colorbar": {
                          "outlinewidth": 0,
                          "ticks": ""
                        },
                        "colorscale": [
                          [
                            0,
                            "#0d0887"
                          ],
                          [
                            0.1111111111111111,
                            "#46039f"
                          ],
                          [
                            0.2222222222222222,
                            "#7201a8"
                          ],
                          [
                            0.3333333333333333,
                            "#9c179e"
                          ],
                          [
                            0.4444444444444444,
                            "#bd3786"
                          ],
                          [
                            0.5555555555555556,
                            "#d8576b"
                          ],
                          [
                            0.6666666666666666,
                            "#ed7953"
                          ],
                          [
                            0.7777777777777778,
                            "#fb9f3a"
                          ],
                          [
                            0.8888888888888888,
                            "#fdca26"
                          ],
                          [
                            1,
                            "#f0f921"
                          ]
                        ],
                        "type": "histogram2d"
                      }
                    ],
                    "histogram": [
                      {
                        "marker": {
                          "pattern": {
                            "fillmode": "overlay",
                            "size": 10,
                            "solidity": 0.2
                          }
                        },
                        "type": "histogram"
                      }
                    ],
                    "mesh3d": [
                      {
                        "colorbar": {
                          "outlinewidth": 0,
                          "ticks": ""
                        },
                        "type": "mesh3d"
                      }
                    ],
                    "parcoords": [
                      {
                        "line": {
                          "colorbar": {
                            "outlinewidth": 0,
                            "ticks": ""
                          }
                        },
                        "type": "parcoords"
                      }
                    ],
                    "pie": [
                      {
                        "automargin": true,
                        "type": "pie"
                      }
                    ],
                    "scatter3d": [
                      {
                        "line": {
                          "colorbar": {
                            "outlinewidth": 0,
                            "ticks": ""
                          }
                        },
                        "marker": {
                          "colorbar": {
                            "outlinewidth": 0,
                            "ticks": ""
                          }
                        },
                        "type": "scatter3d"
                      }
                    ],
                    "scattercarpet": [
                      {
                        "marker": {
                          "colorbar": {
                            "outlinewidth": 0,
                            "ticks": ""
                          }
                        },
                        "type": "scattercarpet"
                      }
                    ],
                    "scattergeo": [
                      {
                        "marker": {
                          "colorbar": {
                            "outlinewidth": 0,
                            "ticks": ""
                          }
                        },
                        "type": "scattergeo"
                      }
                    ],
                    "scattergl": [
                      {
                        "marker": {
                          "colorbar": {
                            "outlinewidth": 0,
                            "ticks": ""
                          }
                        },
                        "type": "scattergl"
                      }
                    ],
                    "scattermapbox": [
                      {
                        "marker": {
                          "colorbar": {
                            "outlinewidth": 0,
                            "ticks": ""
                          }
                        },
                        "type": "scattermapbox"
                      }
                    ],
                    "scatterpolargl": [
                      {
                        "marker": {
                          "colorbar": {
                            "outlinewidth": 0,
                            "ticks": ""
                          }
                        },
                        "type": "scatterpolargl"
                      }
                    ],
                    "scatterpolar": [
                      {
                        "marker": {
                          "colorbar": {
                            "outlinewidth": 0,
                            "ticks": ""
                          }
                        },
                        "type": "scatterpolar"
                      }
                    ],
                    "scatter": [
                      {
                        "fillpattern": {
                          "fillmode": "overlay",
                          "size": 10,
                          "solidity": 0.2
                        },
                        "type": "scatter"
                      }
                    ],
                    "scatterternary": [
                      {
                        "marker": {
                          "colorbar": {
                            "outlinewidth": 0,
                            "ticks": ""
                          }
                        },
                        "type": "scatterternary"
                      }
                    ],
                    "surface": [
                      {
                        "colorbar": {
                          "outlinewidth": 0,
                          "ticks": ""
                        },
                        "colorscale": [
                          [
                            0,
                            "#0d0887"
                          ],
                          [
                            0.1111111111111111,
                            "#46039f"
                          ],
                          [
                            0.2222222222222222,
                            "#7201a8"
                          ],
                          [
                            0.3333333333333333,
                            "#9c179e"
                          ],
                          [
                            0.4444444444444444,
                            "#bd3786"
                          ],
                          [
                            0.5555555555555556,
                            "#d8576b"
                          ],
                          [
                            0.6666666666666666,
                            "#ed7953"
                          ],
                          [
                            0.7777777777777778,
                            "#fb9f3a"
                          ],
                          [
                            0.8888888888888888,
                            "#fdca26"
                          ],
                          [
                            1,
                            "#f0f921"
                          ]
                        ],
                        "type": "surface"
                      }
                    ],
                    "table": [
                      {
                        "cells": {
                          "fill": {
                            "color": "#EBF0F8"
                          },
                          "line": {
                            "color": "white"
                          }
                        },
                        "header": {
                          "fill": {
                            "color": "#C8D4E3"
                          },
                          "line": {
                            "color": "white"
                          }
                        },
                        "type": "table"
                      }
                    ]
                  },
                  "layout": {
                    "annotationdefaults": {
                      "arrowcolor": "#2a3f5f",
                      "arrowhead": 0,
                      "arrowwidth": 1
                    },
                    "autotypenumbers": "strict",
                    "coloraxis": {
                      "colorbar": {
                        "outlinewidth": 0,
                        "ticks": ""
                      }
                    },
                    "colorscale": {
                      "diverging": [
                        [
                          0,
                          "#8e0152"
                        ],
                        [
                          0.1,
                          "#c51b7d"
                        ],
                        [
                          0.2,
                          "#de77ae"
                        ],
                        [
                          0.3,
                          "#f1b6da"
                        ],
                        [
                          0.4,
                          "#fde0ef"
                        ],
                        [
                          0.5,
                          "#f7f7f7"
                        ],
                        [
                          0.6,
                          "#e6f5d0"
                        ],
                        [
                          0.7,
                          "#b8e186"
                        ],
                        [
                          0.8,
                          "#7fbc41"
                        ],
                        [
                          0.9,
                          "#4d9221"
                        ],
                        [
                          1,
                          "#276419"
                        ]
                      ],
                      "sequential": [
                        [
                          0,
                          "#0d0887"
                        ],
                        [
                          0.1111111111111111,
                          "#46039f"
                        ],
                        [
                          0.2222222222222222,
                          "#7201a8"
                        ],
                        [
                          0.3333333333333333,
                          "#9c179e"
                        ],
                        [
                          0.4444444444444444,
                          "#bd3786"
                        ],
                        [
                          0.5555555555555556,
                          "#d8576b"
                        ],
                        [
                          0.6666666666666666,
                          "#ed7953"
                        ],
                        [
                          0.7777777777777778,
                          "#fb9f3a"
                        ],
                        [
                          0.8888888888888888,
                          "#fdca26"
                        ],
                        [
                          1,
                          "#f0f921"
                        ]
                      ],
                      "sequentialminus": [
                        [
                          0,
                          "#0d0887"
                        ],
                        [
                          0.1111111111111111,
                          "#46039f"
                        ],
                        [
                          0.2222222222222222,
                          "#7201a8"
                        ],
                        [
                          0.3333333333333333,
                          "#9c179e"
                        ],
                        [
                          0.4444444444444444,
                          "#bd3786"
                        ],
                        [
                          0.5555555555555556,
                          "#d8576b"
                        ],
                        [
                          0.6666666666666666,
                          "#ed7953"
                        ],
                        [
                          0.7777777777777778,
                          "#fb9f3a"
                        ],
                        [
                          0.8888888888888888,
                          "#fdca26"
                        ],
                        [
                          1,
                          "#f0f921"
                        ]
                      ]
                    },
                    "colorway": [
                      "#636efa",
                      "#EF553B",
                      "#00cc96",
                      "#ab63fa",
                      "#FFA15A",
                      "#19d3f3",
                      "#FF6692",
                      "#B6E880",
                      "#FF97FF",
                      "#FECB52"
                    ],
                    "font": {
                      "color": "#2a3f5f"
                    },
                    "geo": {
                      "bgcolor": "white",
                      "lakecolor": "white",
                      "landcolor": "white",
                      "showlakes": true,
                      "showland": true,
                      "subunitcolor": "#C8D4E3"
                    },
                    "hoverlabel": {
                      "align": "left"
                    },
                    "hovermode": "closest",
                    "mapbox": {
                      "style": "light"
                    },
                    "paper_bgcolor": "white",
                    "plot_bgcolor": "white",
                    "polar": {
                      "angularaxis": {
                        "gridcolor": "#EBF0F8",
                        "linecolor": "#EBF0F8",
                        "ticks": ""
                      },
                      "bgcolor": "white",
                      "radialaxis": {
                        "gridcolor": "#EBF0F8",
                        "linecolor": "#EBF0F8",
                        "ticks": ""
                      }
                    },
                    "scene": {
                      "xaxis": {
                        "backgroundcolor": "white",
                        "gridcolor": "#DFE8F3",
                        "gridwidth": 2,
                        "linecolor": "#EBF0F8",
                        "showbackground": true,
                        "ticks": "",
                        "zerolinecolor": "#EBF0F8"
                      },
                      "yaxis": {
                        "backgroundcolor": "white",
                        "gridcolor": "#DFE8F3",
                        "gridwidth": 2,
                        "linecolor": "#EBF0F8",
                        "showbackground": true,
                        "ticks": "",
                        "zerolinecolor": "#EBF0F8"
                      },
                      "zaxis": {
                        "backgroundcolor": "white",
                        "gridcolor": "#DFE8F3",
                        "gridwidth": 2,
                        "linecolor": "#EBF0F8",
                        "showbackground": true,
                        "ticks": "",
                        "zerolinecolor": "#EBF0F8"
                      }
                    },
                    "shapedefaults": {
                      "line": {
                        "color": "#2a3f5f"
                      }
                    },
                    "ternary": {
                      "aaxis": {
                        "gridcolor": "#DFE8F3",
                        "linecolor": "#A2B1C6",
                        "ticks": ""
                      },
                      "baxis": {
                        "gridcolor": "#DFE8F3",
                        "linecolor": "#A2B1C6",
                        "ticks": ""
                      },
                      "bgcolor": "white",
                      "caxis": {
                        "gridcolor": "#DFE8F3",
                        "linecolor": "#A2B1C6",
                        "ticks": ""
                      }
                    },
                    "title": {
                      "x": 0.05
                    },
                    "xaxis": {
                      "automargin": true,
                      "gridcolor": "#EBF0F8",
                      "linecolor": "#EBF0F8",
                      "ticks": "",
                      "title": {
                        "standoff": 15
                      },
                      "zerolinecolor": "#EBF0F8",
                      "zerolinewidth": 2
                    },
                    "yaxis": {
                      "automargin": true,
                      "gridcolor": "#EBF0F8",
                      "linecolor": "#EBF0F8",
                      "ticks": "",
                      "title": {
                        "standoff": 15
                      },
                      "zerolinecolor": "#EBF0F8",
                      "zerolinewidth": 2
                    }
                  }
                },
                "xaxis": {
                  "anchor": "y",
                  "domain": [
                    0,
                    1
                  ],
                  "title": {
                    "text": "Investment Avenues"
                  },
                  "categoryorder": "array",
                  "categoryarray": [
                    "Debentures",
                    "Gold",
                    "Government_Bonds",
                    "Mutual_Funds",
                    "Equity_Market",
                    "PPF"
                  ]
                },
                "yaxis": {
                  "anchor": "x",
                  "domain": [
                    0,
                    1
                  ],
                  "title": {
                    "text": "Number of Investors"
                  }
                },
                "legend": {
                  "title": {
                    "text": "Investment_Avenues"
                  },
                  "tracegroupgap": 0
                },
                "title": {
                  "text": "Number of Investors by Investment Avenues"
                },
                "violinmode": "overlay"
              },
              "config": {
                "plotlyServerURL": "https://plot.ly"
              }
            },
            "text/html": "<div>                            <div id=\"7c830c83-b19c-4aa0-9732-599c8a4a7791\" class=\"plotly-graph-div\" style=\"height:525px; width:100%;\"></div>            <script type=\"text/javascript\">                require([\"plotly\"], function(Plotly) {                    window.PLOTLYENV=window.PLOTLYENV || {};                                    if (document.getElementById(\"7c830c83-b19c-4aa0-9732-599c8a4a7791\")) {                    Plotly.newPlot(                        \"7c830c83-b19c-4aa0-9732-599c8a4a7791\",                        [{\"alignmentgroup\":\"True\",\"box\":{\"visible\":true},\"hovertemplate\":\"Investment_Avenues=%{x}\\u003cbr\\u003eNumber_of_Investors=%{y}\\u003cextra\\u003e\\u003c\\u002fextra\\u003e\",\"legendgroup\":\"Debentures\",\"marker\":{\"color\":\"#636efa\"},\"name\":\"Debentures\",\"offsetgroup\":\"Debentures\",\"orientation\":\"v\",\"points\":\"all\",\"scalegroup\":\"True\",\"showlegend\":true,\"x\":[\"Debentures\",\"Debentures\",\"Debentures\",\"Debentures\",\"Debentures\",\"Debentures\",\"Debentures\",\"Debentures\",\"Debentures\",\"Debentures\",\"Debentures\",\"Debentures\",\"Debentures\",\"Debentures\",\"Debentures\",\"Debentures\",\"Debentures\",\"Debentures\",\"Debentures\",\"Debentures\",\"Debentures\",\"Debentures\",\"Debentures\",\"Debentures\",\"Debentures\",\"Debentures\",\"Debentures\",\"Debentures\",\"Debentures\",\"Debentures\",\"Debentures\",\"Debentures\",\"Debentures\",\"Debentures\",\"Debentures\",\"Debentures\",\"Debentures\",\"Debentures\",\"Debentures\",\"Debentures\",\"Debentures\",\"Debentures\",\"Debentures\",\"Debentures\",\"Debentures\",\"Debentures\",\"Debentures\",\"Debentures\",\"Debentures\",\"Debentures\",\"Debentures\",\"Debentures\",\"Debentures\",\"Debentures\",\"Debentures\",\"Debentures\",\"Debentures\",\"Debentures\",\"Debentures\",\"Debentures\",\"Debentures\",\"Debentures\",\"Debentures\",\"Debentures\",\"Debentures\",\"Debentures\",\"Debentures\",\"Debentures\",\"Debentures\",\"Debentures\",\"Debentures\",\"Debentures\",\"Debentures\",\"Debentures\",\"Debentures\",\"Debentures\",\"Debentures\",\"Debentures\",\"Debentures\",\"Debentures\",\"Debentures\",\"Debentures\",\"Debentures\",\"Debentures\",\"Debentures\",\"Debentures\",\"Debentures\",\"Debentures\",\"Debentures\",\"Debentures\",\"Debentures\",\"Debentures\",\"Debentures\",\"Debentures\",\"Debentures\",\"Debentures\",\"Debentures\",\"Debentures\",\"Debentures\",\"Debentures\"],\"x0\":\" \",\"xaxis\":\"x\",\"y\":[698,880,730,498,266,208,226,528,705,507,230,777,787,121,107,808,526,195,429,257,800,888,258,130,953,472,216,551,997,647,915,931,275,514,581,988,75,271,359,761,909,465,432,463,294,754,448,644,245,224,572,932,392,341,790,750,829,406,377,179,608,440,398,667,752,339,171,612,865,558,889,513,450,94,672,815,70,358,463,388,747,504,263,849,301,384,614,440,570,650,536,613,319,638,277,855,596,420,811,841],\"y0\":\" \",\"yaxis\":\"y\",\"type\":\"violin\"},{\"alignmentgroup\":\"True\",\"box\":{\"visible\":true},\"hovertemplate\":\"Investment_Avenues=%{x}\\u003cbr\\u003eNumber_of_Investors=%{y}\\u003cextra\\u003e\\u003c\\u002fextra\\u003e\",\"legendgroup\":\"Gold\",\"marker\":{\"color\":\"#EF553B\"},\"name\":\"Gold\",\"offsetgroup\":\"Gold\",\"orientation\":\"v\",\"points\":\"all\",\"scalegroup\":\"True\",\"showlegend\":true,\"x\":[\"Gold\",\"Gold\",\"Gold\",\"Gold\",\"Gold\",\"Gold\",\"Gold\",\"Gold\",\"Gold\",\"Gold\",\"Gold\",\"Gold\",\"Gold\",\"Gold\",\"Gold\",\"Gold\",\"Gold\",\"Gold\",\"Gold\",\"Gold\",\"Gold\",\"Gold\",\"Gold\",\"Gold\",\"Gold\",\"Gold\",\"Gold\",\"Gold\",\"Gold\",\"Gold\",\"Gold\",\"Gold\",\"Gold\",\"Gold\",\"Gold\",\"Gold\",\"Gold\",\"Gold\",\"Gold\",\"Gold\",\"Gold\",\"Gold\",\"Gold\",\"Gold\",\"Gold\",\"Gold\",\"Gold\",\"Gold\",\"Gold\",\"Gold\",\"Gold\",\"Gold\",\"Gold\",\"Gold\",\"Gold\",\"Gold\",\"Gold\",\"Gold\",\"Gold\",\"Gold\",\"Gold\",\"Gold\",\"Gold\",\"Gold\",\"Gold\",\"Gold\",\"Gold\",\"Gold\",\"Gold\",\"Gold\",\"Gold\",\"Gold\",\"Gold\",\"Gold\",\"Gold\",\"Gold\",\"Gold\",\"Gold\",\"Gold\",\"Gold\",\"Gold\",\"Gold\",\"Gold\",\"Gold\",\"Gold\",\"Gold\",\"Gold\",\"Gold\",\"Gold\",\"Gold\",\"Gold\",\"Gold\",\"Gold\",\"Gold\",\"Gold\",\"Gold\",\"Gold\",\"Gold\",\"Gold\",\"Gold\"],\"x0\":\" \",\"xaxis\":\"x\",\"y\":[664,915,419,630,421,482,799,304,106,529,710,663,517,460,271,267,646,350,157,296,861,705,988,806,308,467,913,260,836,517,799,298,634,271,182,200,990,575,356,396,141,510,370,537,532,497,198,109,593,689,792,520,320,189,139,931,70,79,492,199,422,301,835,719,335,223,825,668,622,199,84,272,209,852,420,394,345,102,794,568,365,575,292,495,252,541,385,746,66,787,175,215,466,396,849,809,502,421,477,59],\"y0\":\" \",\"yaxis\":\"y\",\"type\":\"violin\"},{\"alignmentgroup\":\"True\",\"box\":{\"visible\":true},\"hovertemplate\":\"Investment_Avenues=%{x}\\u003cbr\\u003eNumber_of_Investors=%{y}\\u003cextra\\u003e\\u003c\\u002fextra\\u003e\",\"legendgroup\":\"Government_Bonds\",\"marker\":{\"color\":\"#00cc96\"},\"name\":\"Government_Bonds\",\"offsetgroup\":\"Government_Bonds\",\"orientation\":\"v\",\"points\":\"all\",\"scalegroup\":\"True\",\"showlegend\":true,\"x\":[\"Government_Bonds\",\"Government_Bonds\",\"Government_Bonds\",\"Government_Bonds\",\"Government_Bonds\",\"Government_Bonds\",\"Government_Bonds\",\"Government_Bonds\",\"Government_Bonds\",\"Government_Bonds\",\"Government_Bonds\",\"Government_Bonds\",\"Government_Bonds\",\"Government_Bonds\",\"Government_Bonds\",\"Government_Bonds\",\"Government_Bonds\",\"Government_Bonds\",\"Government_Bonds\",\"Government_Bonds\",\"Government_Bonds\",\"Government_Bonds\",\"Government_Bonds\",\"Government_Bonds\",\"Government_Bonds\",\"Government_Bonds\",\"Government_Bonds\",\"Government_Bonds\",\"Government_Bonds\",\"Government_Bonds\",\"Government_Bonds\",\"Government_Bonds\",\"Government_Bonds\",\"Government_Bonds\",\"Government_Bonds\",\"Government_Bonds\",\"Government_Bonds\",\"Government_Bonds\",\"Government_Bonds\",\"Government_Bonds\",\"Government_Bonds\",\"Government_Bonds\",\"Government_Bonds\",\"Government_Bonds\",\"Government_Bonds\",\"Government_Bonds\",\"Government_Bonds\",\"Government_Bonds\",\"Government_Bonds\",\"Government_Bonds\",\"Government_Bonds\",\"Government_Bonds\",\"Government_Bonds\",\"Government_Bonds\",\"Government_Bonds\",\"Government_Bonds\",\"Government_Bonds\",\"Government_Bonds\",\"Government_Bonds\",\"Government_Bonds\",\"Government_Bonds\",\"Government_Bonds\",\"Government_Bonds\",\"Government_Bonds\",\"Government_Bonds\",\"Government_Bonds\",\"Government_Bonds\",\"Government_Bonds\",\"Government_Bonds\",\"Government_Bonds\",\"Government_Bonds\",\"Government_Bonds\",\"Government_Bonds\",\"Government_Bonds\",\"Government_Bonds\",\"Government_Bonds\",\"Government_Bonds\",\"Government_Bonds\",\"Government_Bonds\",\"Government_Bonds\",\"Government_Bonds\",\"Government_Bonds\",\"Government_Bonds\",\"Government_Bonds\",\"Government_Bonds\",\"Government_Bonds\",\"Government_Bonds\",\"Government_Bonds\",\"Government_Bonds\",\"Government_Bonds\",\"Government_Bonds\",\"Government_Bonds\",\"Government_Bonds\",\"Government_Bonds\",\"Government_Bonds\",\"Government_Bonds\",\"Government_Bonds\",\"Government_Bonds\",\"Government_Bonds\",\"Government_Bonds\"],\"x0\":\" \",\"xaxis\":\"x\",\"y\":[984,223,727,909,973,930,842,316,426,669,394,862,493,851,171,443,607,699,561,402,248,627,859,998,897,405,865,859,664,746,240,258,662,603,228,91,916,653,974,109,777,53,465,134,459,558,570,235,820,109,542,312,232,192,198,924,80,674,65,530,682,949,121,462,187,820,392,787,573,877,278,328,240,82,966,208,949,510,464,184,303,725,670,642,327,628,226,458,317,544,308,550,106,257,101,677,994,60,284,619],\"y0\":\" \",\"yaxis\":\"y\",\"type\":\"violin\"},{\"alignmentgroup\":\"True\",\"box\":{\"visible\":true},\"hovertemplate\":\"Investment_Avenues=%{x}\\u003cbr\\u003eNumber_of_Investors=%{y}\\u003cextra\\u003e\\u003c\\u002fextra\\u003e\",\"legendgroup\":\"Mutual_Funds\",\"marker\":{\"color\":\"#ab63fa\"},\"name\":\"Mutual_Funds\",\"offsetgroup\":\"Mutual_Funds\",\"orientation\":\"v\",\"points\":\"all\",\"scalegroup\":\"True\",\"showlegend\":true,\"x\":[\"Mutual_Funds\",\"Mutual_Funds\",\"Mutual_Funds\",\"Mutual_Funds\",\"Mutual_Funds\",\"Mutual_Funds\",\"Mutual_Funds\",\"Mutual_Funds\",\"Mutual_Funds\",\"Mutual_Funds\",\"Mutual_Funds\",\"Mutual_Funds\",\"Mutual_Funds\",\"Mutual_Funds\",\"Mutual_Funds\",\"Mutual_Funds\",\"Mutual_Funds\",\"Mutual_Funds\",\"Mutual_Funds\",\"Mutual_Funds\",\"Mutual_Funds\",\"Mutual_Funds\",\"Mutual_Funds\",\"Mutual_Funds\",\"Mutual_Funds\",\"Mutual_Funds\",\"Mutual_Funds\",\"Mutual_Funds\",\"Mutual_Funds\",\"Mutual_Funds\",\"Mutual_Funds\",\"Mutual_Funds\",\"Mutual_Funds\",\"Mutual_Funds\",\"Mutual_Funds\",\"Mutual_Funds\",\"Mutual_Funds\",\"Mutual_Funds\",\"Mutual_Funds\",\"Mutual_Funds\",\"Mutual_Funds\",\"Mutual_Funds\",\"Mutual_Funds\",\"Mutual_Funds\",\"Mutual_Funds\",\"Mutual_Funds\",\"Mutual_Funds\",\"Mutual_Funds\",\"Mutual_Funds\",\"Mutual_Funds\",\"Mutual_Funds\",\"Mutual_Funds\",\"Mutual_Funds\",\"Mutual_Funds\",\"Mutual_Funds\",\"Mutual_Funds\",\"Mutual_Funds\",\"Mutual_Funds\",\"Mutual_Funds\",\"Mutual_Funds\",\"Mutual_Funds\",\"Mutual_Funds\",\"Mutual_Funds\",\"Mutual_Funds\",\"Mutual_Funds\",\"Mutual_Funds\",\"Mutual_Funds\",\"Mutual_Funds\",\"Mutual_Funds\",\"Mutual_Funds\",\"Mutual_Funds\",\"Mutual_Funds\",\"Mutual_Funds\",\"Mutual_Funds\",\"Mutual_Funds\",\"Mutual_Funds\",\"Mutual_Funds\",\"Mutual_Funds\",\"Mutual_Funds\",\"Mutual_Funds\",\"Mutual_Funds\",\"Mutual_Funds\",\"Mutual_Funds\",\"Mutual_Funds\",\"Mutual_Funds\",\"Mutual_Funds\",\"Mutual_Funds\",\"Mutual_Funds\",\"Mutual_Funds\",\"Mutual_Funds\",\"Mutual_Funds\",\"Mutual_Funds\",\"Mutual_Funds\",\"Mutual_Funds\",\"Mutual_Funds\",\"Mutual_Funds\",\"Mutual_Funds\",\"Mutual_Funds\",\"Mutual_Funds\",\"Mutual_Funds\"],\"x0\":\" \",\"xaxis\":\"x\",\"y\":[658,274,601,389,62,794,802,788,669,166,346,694,912,493,361,436,474,243,364,725,341,120,283,748,368,299,734,98,635,775,257,822,483,972,654,609,687,875,800,171,601,660,876,157,152,940,354,992,394,558,813,699,951,965,494,640,288,418,485,201,737,865,740,994,804,203,829,561,378,176,397,345,629,279,700,576,778,383,239,432,489,887,71,426,854,728,221,147,188,247,965,924,263,498,90,671,405,919,979,544],\"y0\":\" \",\"yaxis\":\"y\",\"type\":\"violin\"},{\"alignmentgroup\":\"True\",\"box\":{\"visible\":true},\"hovertemplate\":\"Investment_Avenues=%{x}\\u003cbr\\u003eNumber_of_Investors=%{y}\\u003cextra\\u003e\\u003c\\u002fextra\\u003e\",\"legendgroup\":\"Equity_Market\",\"marker\":{\"color\":\"#FFA15A\"},\"name\":\"Equity_Market\",\"offsetgroup\":\"Equity_Market\",\"orientation\":\"v\",\"points\":\"all\",\"scalegroup\":\"True\",\"showlegend\":true,\"x\":[\"Equity_Market\",\"Equity_Market\",\"Equity_Market\",\"Equity_Market\",\"Equity_Market\",\"Equity_Market\",\"Equity_Market\",\"Equity_Market\",\"Equity_Market\",\"Equity_Market\",\"Equity_Market\",\"Equity_Market\",\"Equity_Market\",\"Equity_Market\",\"Equity_Market\",\"Equity_Market\",\"Equity_Market\",\"Equity_Market\",\"Equity_Market\",\"Equity_Market\",\"Equity_Market\",\"Equity_Market\",\"Equity_Market\",\"Equity_Market\",\"Equity_Market\",\"Equity_Market\",\"Equity_Market\",\"Equity_Market\",\"Equity_Market\",\"Equity_Market\",\"Equity_Market\",\"Equity_Market\",\"Equity_Market\",\"Equity_Market\",\"Equity_Market\",\"Equity_Market\",\"Equity_Market\",\"Equity_Market\",\"Equity_Market\",\"Equity_Market\",\"Equity_Market\",\"Equity_Market\",\"Equity_Market\",\"Equity_Market\",\"Equity_Market\",\"Equity_Market\",\"Equity_Market\",\"Equity_Market\",\"Equity_Market\",\"Equity_Market\",\"Equity_Market\",\"Equity_Market\",\"Equity_Market\",\"Equity_Market\",\"Equity_Market\",\"Equity_Market\",\"Equity_Market\",\"Equity_Market\",\"Equity_Market\",\"Equity_Market\",\"Equity_Market\",\"Equity_Market\",\"Equity_Market\",\"Equity_Market\",\"Equity_Market\",\"Equity_Market\",\"Equity_Market\",\"Equity_Market\",\"Equity_Market\",\"Equity_Market\",\"Equity_Market\",\"Equity_Market\",\"Equity_Market\",\"Equity_Market\",\"Equity_Market\",\"Equity_Market\",\"Equity_Market\",\"Equity_Market\",\"Equity_Market\",\"Equity_Market\",\"Equity_Market\",\"Equity_Market\",\"Equity_Market\",\"Equity_Market\",\"Equity_Market\",\"Equity_Market\",\"Equity_Market\",\"Equity_Market\",\"Equity_Market\",\"Equity_Market\",\"Equity_Market\",\"Equity_Market\",\"Equity_Market\",\"Equity_Market\",\"Equity_Market\",\"Equity_Market\",\"Equity_Market\",\"Equity_Market\",\"Equity_Market\",\"Equity_Market\"],\"x0\":\" \",\"xaxis\":\"x\",\"y\":[59,879,263,703,877,914,67,621,699,758,595,589,608,741,887,307,601,168,289,527,870,691,669,322,178,839,91,797,963,440,388,924,306,986,72,505,985,804,716,648,685,405,849,873,258,968,75,543,770,406,81,795,804,53,175,604,647,943,707,496,657,172,841,304,887,971,970,815,193,663,611,502,398,376,184,912,107,730,83,665,360,277,780,756,141,195,957,385,296,87,811,282,782,877,444,423,710,525,705,590],\"y0\":\" \",\"yaxis\":\"y\",\"type\":\"violin\"},{\"alignmentgroup\":\"True\",\"box\":{\"visible\":true},\"hovertemplate\":\"Investment_Avenues=%{x}\\u003cbr\\u003eNumber_of_Investors=%{y}\\u003cextra\\u003e\\u003c\\u002fextra\\u003e\",\"legendgroup\":\"PPF\",\"marker\":{\"color\":\"#19d3f3\"},\"name\":\"PPF\",\"offsetgroup\":\"PPF\",\"orientation\":\"v\",\"points\":\"all\",\"scalegroup\":\"True\",\"showlegend\":true,\"x\":[\"PPF\",\"PPF\",\"PPF\",\"PPF\",\"PPF\",\"PPF\",\"PPF\",\"PPF\",\"PPF\",\"PPF\",\"PPF\",\"PPF\",\"PPF\",\"PPF\",\"PPF\",\"PPF\",\"PPF\",\"PPF\",\"PPF\",\"PPF\",\"PPF\",\"PPF\",\"PPF\",\"PPF\",\"PPF\",\"PPF\",\"PPF\",\"PPF\",\"PPF\",\"PPF\",\"PPF\",\"PPF\",\"PPF\",\"PPF\",\"PPF\",\"PPF\",\"PPF\",\"PPF\",\"PPF\",\"PPF\",\"PPF\",\"PPF\",\"PPF\",\"PPF\",\"PPF\",\"PPF\",\"PPF\",\"PPF\",\"PPF\",\"PPF\",\"PPF\",\"PPF\",\"PPF\",\"PPF\",\"PPF\",\"PPF\",\"PPF\",\"PPF\",\"PPF\",\"PPF\",\"PPF\",\"PPF\",\"PPF\",\"PPF\",\"PPF\",\"PPF\",\"PPF\",\"PPF\",\"PPF\",\"PPF\",\"PPF\",\"PPF\",\"PPF\",\"PPF\",\"PPF\",\"PPF\",\"PPF\",\"PPF\",\"PPF\",\"PPF\",\"PPF\",\"PPF\",\"PPF\",\"PPF\",\"PPF\",\"PPF\",\"PPF\",\"PPF\",\"PPF\",\"PPF\",\"PPF\",\"PPF\",\"PPF\",\"PPF\",\"PPF\",\"PPF\",\"PPF\",\"PPF\",\"PPF\",\"PPF\"],\"x0\":\" \",\"xaxis\":\"x\",\"y\":[885,279,720,622,792,540,659,174,432,700,876,125,242,767,941,678,376,717,788,631,877,214,610,766,306,598,114,430,394,250,171,775,946,518,597,118,774,108,289,86,545,930,318,842,192,371,434,900,677,979,981,349,294,803,318,439,933,184,226,953,464,797,904,237,526,414,555,87,318,844,357,475,760,452,339,892,946,348,215,981,203,485,281,513,403,992,863,227,839,867,346,320,770,412,473,395,707,106,941,170],\"y0\":\" \",\"yaxis\":\"y\",\"type\":\"violin\"}],                        {\"template\":{\"data\":{\"barpolar\":[{\"marker\":{\"line\":{\"color\":\"white\",\"width\":0.5},\"pattern\":{\"fillmode\":\"overlay\",\"size\":10,\"solidity\":0.2}},\"type\":\"barpolar\"}],\"bar\":[{\"error_x\":{\"color\":\"#2a3f5f\"},\"error_y\":{\"color\":\"#2a3f5f\"},\"marker\":{\"line\":{\"color\":\"white\",\"width\":0.5},\"pattern\":{\"fillmode\":\"overlay\",\"size\":10,\"solidity\":0.2}},\"type\":\"bar\"}],\"carpet\":[{\"aaxis\":{\"endlinecolor\":\"#2a3f5f\",\"gridcolor\":\"#C8D4E3\",\"linecolor\":\"#C8D4E3\",\"minorgridcolor\":\"#C8D4E3\",\"startlinecolor\":\"#2a3f5f\"},\"baxis\":{\"endlinecolor\":\"#2a3f5f\",\"gridcolor\":\"#C8D4E3\",\"linecolor\":\"#C8D4E3\",\"minorgridcolor\":\"#C8D4E3\",\"startlinecolor\":\"#2a3f5f\"},\"type\":\"carpet\"}],\"choropleth\":[{\"colorbar\":{\"outlinewidth\":0,\"ticks\":\"\"},\"type\":\"choropleth\"}],\"contourcarpet\":[{\"colorbar\":{\"outlinewidth\":0,\"ticks\":\"\"},\"type\":\"contourcarpet\"}],\"contour\":[{\"colorbar\":{\"outlinewidth\":0,\"ticks\":\"\"},\"colorscale\":[[0.0,\"#0d0887\"],[0.1111111111111111,\"#46039f\"],[0.2222222222222222,\"#7201a8\"],[0.3333333333333333,\"#9c179e\"],[0.4444444444444444,\"#bd3786\"],[0.5555555555555556,\"#d8576b\"],[0.6666666666666666,\"#ed7953\"],[0.7777777777777778,\"#fb9f3a\"],[0.8888888888888888,\"#fdca26\"],[1.0,\"#f0f921\"]],\"type\":\"contour\"}],\"heatmapgl\":[{\"colorbar\":{\"outlinewidth\":0,\"ticks\":\"\"},\"colorscale\":[[0.0,\"#0d0887\"],[0.1111111111111111,\"#46039f\"],[0.2222222222222222,\"#7201a8\"],[0.3333333333333333,\"#9c179e\"],[0.4444444444444444,\"#bd3786\"],[0.5555555555555556,\"#d8576b\"],[0.6666666666666666,\"#ed7953\"],[0.7777777777777778,\"#fb9f3a\"],[0.8888888888888888,\"#fdca26\"],[1.0,\"#f0f921\"]],\"type\":\"heatmapgl\"}],\"heatmap\":[{\"colorbar\":{\"outlinewidth\":0,\"ticks\":\"\"},\"colorscale\":[[0.0,\"#0d0887\"],[0.1111111111111111,\"#46039f\"],[0.2222222222222222,\"#7201a8\"],[0.3333333333333333,\"#9c179e\"],[0.4444444444444444,\"#bd3786\"],[0.5555555555555556,\"#d8576b\"],[0.6666666666666666,\"#ed7953\"],[0.7777777777777778,\"#fb9f3a\"],[0.8888888888888888,\"#fdca26\"],[1.0,\"#f0f921\"]],\"type\":\"heatmap\"}],\"histogram2dcontour\":[{\"colorbar\":{\"outlinewidth\":0,\"ticks\":\"\"},\"colorscale\":[[0.0,\"#0d0887\"],[0.1111111111111111,\"#46039f\"],[0.2222222222222222,\"#7201a8\"],[0.3333333333333333,\"#9c179e\"],[0.4444444444444444,\"#bd3786\"],[0.5555555555555556,\"#d8576b\"],[0.6666666666666666,\"#ed7953\"],[0.7777777777777778,\"#fb9f3a\"],[0.8888888888888888,\"#fdca26\"],[1.0,\"#f0f921\"]],\"type\":\"histogram2dcontour\"}],\"histogram2d\":[{\"colorbar\":{\"outlinewidth\":0,\"ticks\":\"\"},\"colorscale\":[[0.0,\"#0d0887\"],[0.1111111111111111,\"#46039f\"],[0.2222222222222222,\"#7201a8\"],[0.3333333333333333,\"#9c179e\"],[0.4444444444444444,\"#bd3786\"],[0.5555555555555556,\"#d8576b\"],[0.6666666666666666,\"#ed7953\"],[0.7777777777777778,\"#fb9f3a\"],[0.8888888888888888,\"#fdca26\"],[1.0,\"#f0f921\"]],\"type\":\"histogram2d\"}],\"histogram\":[{\"marker\":{\"pattern\":{\"fillmode\":\"overlay\",\"size\":10,\"solidity\":0.2}},\"type\":\"histogram\"}],\"mesh3d\":[{\"colorbar\":{\"outlinewidth\":0,\"ticks\":\"\"},\"type\":\"mesh3d\"}],\"parcoords\":[{\"line\":{\"colorbar\":{\"outlinewidth\":0,\"ticks\":\"\"}},\"type\":\"parcoords\"}],\"pie\":[{\"automargin\":true,\"type\":\"pie\"}],\"scatter3d\":[{\"line\":{\"colorbar\":{\"outlinewidth\":0,\"ticks\":\"\"}},\"marker\":{\"colorbar\":{\"outlinewidth\":0,\"ticks\":\"\"}},\"type\":\"scatter3d\"}],\"scattercarpet\":[{\"marker\":{\"colorbar\":{\"outlinewidth\":0,\"ticks\":\"\"}},\"type\":\"scattercarpet\"}],\"scattergeo\":[{\"marker\":{\"colorbar\":{\"outlinewidth\":0,\"ticks\":\"\"}},\"type\":\"scattergeo\"}],\"scattergl\":[{\"marker\":{\"colorbar\":{\"outlinewidth\":0,\"ticks\":\"\"}},\"type\":\"scattergl\"}],\"scattermapbox\":[{\"marker\":{\"colorbar\":{\"outlinewidth\":0,\"ticks\":\"\"}},\"type\":\"scattermapbox\"}],\"scatterpolargl\":[{\"marker\":{\"colorbar\":{\"outlinewidth\":0,\"ticks\":\"\"}},\"type\":\"scatterpolargl\"}],\"scatterpolar\":[{\"marker\":{\"colorbar\":{\"outlinewidth\":0,\"ticks\":\"\"}},\"type\":\"scatterpolar\"}],\"scatter\":[{\"fillpattern\":{\"fillmode\":\"overlay\",\"size\":10,\"solidity\":0.2},\"type\":\"scatter\"}],\"scatterternary\":[{\"marker\":{\"colorbar\":{\"outlinewidth\":0,\"ticks\":\"\"}},\"type\":\"scatterternary\"}],\"surface\":[{\"colorbar\":{\"outlinewidth\":0,\"ticks\":\"\"},\"colorscale\":[[0.0,\"#0d0887\"],[0.1111111111111111,\"#46039f\"],[0.2222222222222222,\"#7201a8\"],[0.3333333333333333,\"#9c179e\"],[0.4444444444444444,\"#bd3786\"],[0.5555555555555556,\"#d8576b\"],[0.6666666666666666,\"#ed7953\"],[0.7777777777777778,\"#fb9f3a\"],[0.8888888888888888,\"#fdca26\"],[1.0,\"#f0f921\"]],\"type\":\"surface\"}],\"table\":[{\"cells\":{\"fill\":{\"color\":\"#EBF0F8\"},\"line\":{\"color\":\"white\"}},\"header\":{\"fill\":{\"color\":\"#C8D4E3\"},\"line\":{\"color\":\"white\"}},\"type\":\"table\"}]},\"layout\":{\"annotationdefaults\":{\"arrowcolor\":\"#2a3f5f\",\"arrowhead\":0,\"arrowwidth\":1},\"autotypenumbers\":\"strict\",\"coloraxis\":{\"colorbar\":{\"outlinewidth\":0,\"ticks\":\"\"}},\"colorscale\":{\"diverging\":[[0,\"#8e0152\"],[0.1,\"#c51b7d\"],[0.2,\"#de77ae\"],[0.3,\"#f1b6da\"],[0.4,\"#fde0ef\"],[0.5,\"#f7f7f7\"],[0.6,\"#e6f5d0\"],[0.7,\"#b8e186\"],[0.8,\"#7fbc41\"],[0.9,\"#4d9221\"],[1,\"#276419\"]],\"sequential\":[[0.0,\"#0d0887\"],[0.1111111111111111,\"#46039f\"],[0.2222222222222222,\"#7201a8\"],[0.3333333333333333,\"#9c179e\"],[0.4444444444444444,\"#bd3786\"],[0.5555555555555556,\"#d8576b\"],[0.6666666666666666,\"#ed7953\"],[0.7777777777777778,\"#fb9f3a\"],[0.8888888888888888,\"#fdca26\"],[1.0,\"#f0f921\"]],\"sequentialminus\":[[0.0,\"#0d0887\"],[0.1111111111111111,\"#46039f\"],[0.2222222222222222,\"#7201a8\"],[0.3333333333333333,\"#9c179e\"],[0.4444444444444444,\"#bd3786\"],[0.5555555555555556,\"#d8576b\"],[0.6666666666666666,\"#ed7953\"],[0.7777777777777778,\"#fb9f3a\"],[0.8888888888888888,\"#fdca26\"],[1.0,\"#f0f921\"]]},\"colorway\":[\"#636efa\",\"#EF553B\",\"#00cc96\",\"#ab63fa\",\"#FFA15A\",\"#19d3f3\",\"#FF6692\",\"#B6E880\",\"#FF97FF\",\"#FECB52\"],\"font\":{\"color\":\"#2a3f5f\"},\"geo\":{\"bgcolor\":\"white\",\"lakecolor\":\"white\",\"landcolor\":\"white\",\"showlakes\":true,\"showland\":true,\"subunitcolor\":\"#C8D4E3\"},\"hoverlabel\":{\"align\":\"left\"},\"hovermode\":\"closest\",\"mapbox\":{\"style\":\"light\"},\"paper_bgcolor\":\"white\",\"plot_bgcolor\":\"white\",\"polar\":{\"angularaxis\":{\"gridcolor\":\"#EBF0F8\",\"linecolor\":\"#EBF0F8\",\"ticks\":\"\"},\"bgcolor\":\"white\",\"radialaxis\":{\"gridcolor\":\"#EBF0F8\",\"linecolor\":\"#EBF0F8\",\"ticks\":\"\"}},\"scene\":{\"xaxis\":{\"backgroundcolor\":\"white\",\"gridcolor\":\"#DFE8F3\",\"gridwidth\":2,\"linecolor\":\"#EBF0F8\",\"showbackground\":true,\"ticks\":\"\",\"zerolinecolor\":\"#EBF0F8\"},\"yaxis\":{\"backgroundcolor\":\"white\",\"gridcolor\":\"#DFE8F3\",\"gridwidth\":2,\"linecolor\":\"#EBF0F8\",\"showbackground\":true,\"ticks\":\"\",\"zerolinecolor\":\"#EBF0F8\"},\"zaxis\":{\"backgroundcolor\":\"white\",\"gridcolor\":\"#DFE8F3\",\"gridwidth\":2,\"linecolor\":\"#EBF0F8\",\"showbackground\":true,\"ticks\":\"\",\"zerolinecolor\":\"#EBF0F8\"}},\"shapedefaults\":{\"line\":{\"color\":\"#2a3f5f\"}},\"ternary\":{\"aaxis\":{\"gridcolor\":\"#DFE8F3\",\"linecolor\":\"#A2B1C6\",\"ticks\":\"\"},\"baxis\":{\"gridcolor\":\"#DFE8F3\",\"linecolor\":\"#A2B1C6\",\"ticks\":\"\"},\"bgcolor\":\"white\",\"caxis\":{\"gridcolor\":\"#DFE8F3\",\"linecolor\":\"#A2B1C6\",\"ticks\":\"\"}},\"title\":{\"x\":0.05},\"xaxis\":{\"automargin\":true,\"gridcolor\":\"#EBF0F8\",\"linecolor\":\"#EBF0F8\",\"ticks\":\"\",\"title\":{\"standoff\":15},\"zerolinecolor\":\"#EBF0F8\",\"zerolinewidth\":2},\"yaxis\":{\"automargin\":true,\"gridcolor\":\"#EBF0F8\",\"linecolor\":\"#EBF0F8\",\"ticks\":\"\",\"title\":{\"standoff\":15},\"zerolinecolor\":\"#EBF0F8\",\"zerolinewidth\":2}}},\"xaxis\":{\"anchor\":\"y\",\"domain\":[0.0,1.0],\"title\":{\"text\":\"Investment Avenues\"},\"categoryorder\":\"array\",\"categoryarray\":[\"Debentures\",\"Gold\",\"Government_Bonds\",\"Mutual_Funds\",\"Equity_Market\",\"PPF\"]},\"yaxis\":{\"anchor\":\"x\",\"domain\":[0.0,1.0],\"title\":{\"text\":\"Number of Investors\"}},\"legend\":{\"title\":{\"text\":\"Investment_Avenues\"},\"tracegroupgap\":0},\"title\":{\"text\":\"Number of Investors by Investment Avenues\"},\"violinmode\":\"overlay\"},                        {\"responsive\": true}                    ).then(function(){\n                            \nvar gd = document.getElementById('7c830c83-b19c-4aa0-9732-599c8a4a7791');\nvar x = new MutationObserver(function (mutations, observer) {{\n        var display = window.getComputedStyle(gd).display;\n        if (!display || display === 'none') {{\n            console.log([gd, 'removed!']);\n            Plotly.purge(gd);\n            observer.disconnect();\n        }}\n}});\n\n// Listen for the removal of the full notebook cells\nvar notebookContainer = gd.closest('#notebook-container');\nif (notebookContainer) {{\n    x.observe(notebookContainer, {childList: true});\n}}\n\n// Listen for the clearing of the current output cell\nvar outputEl = gd.closest('.output');\nif (outputEl) {{\n    x.observe(outputEl, {childList: true});\n}}\n\n                        })                };                });            </script>        </div>"
          },
          "metadata": {}
        }
      ],
      "metadata": {
        "jupyter": {
          "source_hidden": false,
          "outputs_hidden": false
        },
        "nteract": {
          "transient": {
            "deleting": false
          }
        }
      },
      "source": [
        "import pandas as pd\r\n",
        "import numpy as np\r\n",
        "import plotly.express as px\r\n",
        "\r\n",
        "investment_avenues = ['Debentures', 'Debentures', 'Gold', 'Gold', 'Government_Bonds', 'Government_Bonds',\r\n",
        "                      'Mutual_Funds', 'Mutual_Funds', 'Equity_Market', 'Equity_Market', 'PPF', 'PPF']\r\n",
        "\r\n",
        "data = {\r\n",
        "    'Investment_Avenues': investment_avenues * 50,  # 12 entries per type * 50 = 600\r\n",
        "    'Number_of_Investors': np.random.randint(50, 1000, 600)  # Random integers between 50 and 1000\r\n",
        "}\r\n",
        "\r\n",
        "df = pd.DataFrame(data)\r\n",
        "\r\n",
        "fig = px.violin(df, \r\n",
        "                 y='Number_of_Investors', \r\n",
        "                 x='Investment_Avenues',\r\n",
        "                 box=True,       \r\n",
        "                 points=\"all\",   \r\n",
        "                 color='Investment_Avenues',  \r\n",
        "                 hover_data=df.columns,  \r\n",
        "                 title='Number of Investors by Investment Avenues')\r\n",
        "\r\n",
        "\r\n",
        "fig.update_layout(\r\n",
        "    yaxis_title='Number of Investors',\r\n",
        "    xaxis_title='Investment Avenues',\r\n",
        "    template='plotly_white'\r\n",
        ")\r\n",
        "\r\n",
        "\r\n",
        "fig.show()"
      ]
    },
    {
      "cell_type": "markdown",
      "metadata": {
        "nteract": {
          "transient": {
            "deleting": false
          }
        }
      },
      "source": [
        "### 4. Investment Objectives by Gender Stacked Bar Chart\r\n",
        "Description: Show the distribution of investment objectives split by gender.\r\n",
        "Example Use: Understand how investment objectives differ between genders."
      ]
    },
    {
      "cell_type": "code",
      "execution_count": 16,
      "outputs": [
        {
          "output_type": "display_data",
          "data": {
            "application/vnd.livy.statement-meta+json": {
              "spark_pool": "SPARK1",
              "statement_id": 17,
              "statement_ids": [
                17
              ],
              "state": "finished",
              "livy_statement_state": "available",
              "spark_jobs": null,
              "session_id": "0",
              "normalized_state": "finished",
              "queued_time": "2025-02-10T20:15:51.4908144Z",
              "session_start_time": null,
              "execution_start_time": "2025-02-10T20:15:51.6405635Z",
              "execution_finish_time": "2025-02-10T20:15:52.7526443Z",
              "parent_msg_id": "39633e75-d20d-4cc0-bffe-36c8f39c4f6f"
            },
            "text/plain": "StatementMeta(SPARK1, 0, 17, Finished, Available, Finished)"
          },
          "metadata": {}
        },
        {
          "output_type": "display_data",
          "data": {
            "text/plain": "<Figure size 640x480 with 1 Axes>",
            "image/png": "[encoded data removed]"
          },
          "metadata": {}
        }
      ],
      "metadata": {
        "jupyter": {
          "source_hidden": false,
          "outputs_hidden": false
        },
        "nteract": {
          "transient": {
            "deleting": false
          }
        }
      },
      "source": [
        "objectives_gender = df.groupBy(\"gender\", \"What are your savings objectives?\").count().toPandas()\r\n",
        "\r\n",
        "# Pivoting for stacked bar chart\r\n",
        "objectives_pivot = objectives_gender.pivot(index='What are your savings objectives?', columns='gender', values='count').fillna(0)\r\n",
        "\r\n",
        "# Plotting\r\n",
        "objectives_pivot.plot(kind='bar', stacked=True)\r\n",
        "plt.title('Investment Objectives by Gender')\r\n",
        "plt.ylabel('Number of Investors')\r\n",
        "plt.xlabel('Savings Objectives')\r\n",
        "plt.xticks(rotation=45)\r\n",
        "plt.show()"
      ]
    },
    {
      "cell_type": "markdown",
      "metadata": {
        "nteract": {
          "transient": {
            "deleting": false
          }
        }
      },
      "source": [
        "### 5. Investment Duration Box Plot\r\n",
        "Description: Visualize the distribution of investment durations across different avenues.\r\n",
        "we can compare the duration of investments across various categories."
      ]
    },
    {
      "cell_type": "code",
      "execution_count": 21,
      "outputs": [
        {
          "output_type": "display_data",
          "data": {
            "application/vnd.livy.statement-meta+json": {
              "spark_pool": "SPARK1",
              "statement_id": 22,
              "statement_ids": [
                22
              ],
              "state": "finished",
              "livy_statement_state": "available",
              "spark_jobs": null,
              "session_id": "0",
              "normalized_state": "finished",
              "queued_time": "2025-02-10T20:26:22.8062008Z",
              "session_start_time": null,
              "execution_start_time": "2025-02-10T20:26:22.9361543Z",
              "execution_finish_time": "2025-02-10T20:26:23.4986697Z",
              "parent_msg_id": "2e72d711-b29b-4e8a-b3a4-875ea0385ed6"
            },
            "text/plain": "StatementMeta(SPARK1, 0, 22, Finished, Available, Finished)"
          },
          "metadata": {}
        },
        {
          "output_type": "display_data",
          "data": {
            "text/plain": "<Figure size 640x480 with 1 Axes>",
            "image/png": "[encoded data removed]"
          },
          "metadata": {}
        }
      ],
      "metadata": {
        "jupyter": {
          "source_hidden": false,
          "outputs_hidden": false
        },
        "nteract": {
          "transient": {
            "deleting": false
          }
        }
      },
      "source": [
        "import seaborn as sns\r\n",
        "import matplotlib.pyplot as plt\r\n",
        "\r\n",
        "sns.boxplot(x='Investment_Avenues', y='Duration', data=df.toPandas(), hue='Investment_Avenues', palette='Set3', legend=False)\r\n",
        "plt.title('Investment Duration by Avenue')\r\n",
        "plt.xticks(rotation=45, ha='right')\r\n",
        "plt.tight_layout()\r\n",
        "plt.show()"
      ]
    },
    {
      "cell_type": "markdown",
      "metadata": {
        "nteract": {
          "transient": {
            "deleting": false
          }
        }
      },
      "source": [
        "### 6. Investment Monitoring Preferences Bar Chart\r\n",
        "Description: Visualize how investors prefer to monitor their investments.\r\n",
        "Like, identify the common methods investors use to keep track of their investments."
      ]
    },
    {
      "cell_type": "code",
      "execution_count": 54,
      "outputs": [
        {
          "output_type": "display_data",
          "data": {
            "application/vnd.livy.statement-meta+json": {
              "spark_pool": "SPARK1",
              "statement_id": 6,
              "statement_ids": [
                6
              ],
              "state": "finished",
              "livy_statement_state": "available",
              "spark_jobs": null,
              "session_id": "2",
              "normalized_state": "finished",
              "queued_time": "2025-02-10T23:25:24.2642852Z",
              "session_start_time": null,
              "execution_start_time": "2025-02-10T23:25:24.3851693Z",
              "execution_finish_time": "2025-02-10T23:25:24.5439317Z",
              "parent_msg_id": "f9e43aab-a788-4b8b-ad41-f007ff3661f9"
            },
            "text/plain": "StatementMeta(SPARK1, 2, 6, Finished, Available, Finished)"
          },
          "metadata": {}
        },
        {
          "output_type": "display_data",
          "data": {
            "application/vnd.plotly.v1+json": {
              "data": [
                {
                  "hoverinfo": "text",
                  "name": "Male",
                  "text": "Male: 70",
                  "x": [
                    "Gold"
                  ],
                  "y": [
                    70
                  ],
                  "type": "bar"
                },
                {
                  "hoverinfo": "text",
                  "name": "Female",
                  "text": "Female: 60",
                  "x": [
                    "Gold"
                  ],
                  "y": [
                    60
                  ],
                  "type": "bar"
                },
                {
                  "hoverinfo": "text",
                  "name": "Male",
                  "text": "Male: 40",
                  "x": [
                    "Government_Bonds"
                  ],
                  "y": [
                    40
                  ],
                  "type": "bar"
                },
                {
                  "hoverinfo": "text",
                  "name": "Female",
                  "text": "Female: 50",
                  "x": [
                    "Government_Bonds"
                  ],
                  "y": [
                    50
                  ],
                  "type": "bar"
                },
                {
                  "hoverinfo": "text",
                  "name": "Male",
                  "text": "Male: 80",
                  "x": [
                    "Mutual_Funds"
                  ],
                  "y": [
                    80
                  ],
                  "type": "bar"
                },
                {
                  "hoverinfo": "text",
                  "name": "Female",
                  "text": "Female: 30",
                  "x": [
                    "Mutual_Funds"
                  ],
                  "y": [
                    30
                  ],
                  "type": "bar"
                },
                {
                  "hoverinfo": "text",
                  "name": "Male",
                  "text": "Male: 90",
                  "x": [
                    "Equity_Market"
                  ],
                  "y": [
                    90
                  ],
                  "type": "bar"
                },
                {
                  "hoverinfo": "text",
                  "name": "Female",
                  "text": "Female: 20",
                  "x": [
                    "Equity_Market"
                  ],
                  "y": [
                    20
                  ],
                  "type": "bar"
                },
                {
                  "hoverinfo": "text",
                  "name": "Male",
                  "text": "Male: 10",
                  "x": [
                    "PPF"
                  ],
                  "y": [
                    10
                  ],
                  "type": "bar"
                },
                {
                  "hoverinfo": "text",
                  "name": "Female",
                  "text": "Female: 40",
                  "x": [
                    "PPF"
                  ],
                  "y": [
                    40
                  ],
                  "type": "bar"
                }
              ],
              "layout": {
                "template": {
                  "data": {
                    "barpolar": [
                      {
                        "marker": {
                          "line": {
                            "color": "white",
                            "width": 0.5
                          },
                          "pattern": {
                            "fillmode": "overlay",
                            "size": 10,
                            "solidity": 0.2
                          }
                        },
                        "type": "barpolar"
                      }
                    ],
                    "bar": [
                      {
                        "error_x": {
                          "color": "#2a3f5f"
                        },
                        "error_y": {
                          "color": "#2a3f5f"
                        },
                        "marker": {
                          "line": {
                            "color": "white",
                            "width": 0.5
                          },
                          "pattern": {
                            "fillmode": "overlay",
                            "size": 10,
                            "solidity": 0.2
                          }
                        },
                        "type": "bar"
                      }
                    ],
                    "carpet": [
                      {
                        "aaxis": {
                          "endlinecolor": "#2a3f5f",
                          "gridcolor": "#C8D4E3",
                          "linecolor": "#C8D4E3",
                          "minorgridcolor": "#C8D4E3",
                          "startlinecolor": "#2a3f5f"
                        },
                        "baxis": {
                          "endlinecolor": "#2a3f5f",
                          "gridcolor": "#C8D4E3",
                          "linecolor": "#C8D4E3",
                          "minorgridcolor": "#C8D4E3",
                          "startlinecolor": "#2a3f5f"
                        },
                        "type": "carpet"
                      }
                    ],
                    "choropleth": [
                      {
                        "colorbar": {
                          "outlinewidth": 0,
                          "ticks": ""
                        },
                        "type": "choropleth"
                      }
                    ],
                    "contourcarpet": [
                      {
                        "colorbar": {
                          "outlinewidth": 0,
                          "ticks": ""
                        },
                        "type": "contourcarpet"
                      }
                    ],
                    "contour": [
                      {
                        "colorbar": {
                          "outlinewidth": 0,
                          "ticks": ""
                        },
                        "colorscale": [
                          [
                            0,
                            "#0d0887"
                          ],
                          [
                            0.1111111111111111,
                            "#46039f"
                          ],
                          [
                            0.2222222222222222,
                            "#7201a8"
                          ],
                          [
                            0.3333333333333333,
                            "#9c179e"
                          ],
                          [
                            0.4444444444444444,
                            "#bd3786"
                          ],
                          [
                            0.5555555555555556,
                            "#d8576b"
                          ],
                          [
                            0.6666666666666666,
                            "#ed7953"
                          ],
                          [
                            0.7777777777777778,
                            "#fb9f3a"
                          ],
                          [
                            0.8888888888888888,
                            "#fdca26"
                          ],
                          [
                            1,
                            "#f0f921"
                          ]
                        ],
                        "type": "contour"
                      }
                    ],
                    "heatmapgl": [
                      {
                        "colorbar": {
                          "outlinewidth": 0,
                          "ticks": ""
                        },
                        "colorscale": [
                          [
                            0,
                            "#0d0887"
                          ],
                          [
                            0.1111111111111111,
                            "#46039f"
                          ],
                          [
                            0.2222222222222222,
                            "#7201a8"
                          ],
                          [
                            0.3333333333333333,
                            "#9c179e"
                          ],
                          [
                            0.4444444444444444,
                            "#bd3786"
                          ],
                          [
                            0.5555555555555556,
                            "#d8576b"
                          ],
                          [
                            0.6666666666666666,
                            "#ed7953"
                          ],
                          [
                            0.7777777777777778,
                            "#fb9f3a"
                          ],
                          [
                            0.8888888888888888,
                            "#fdca26"
                          ],
                          [
                            1,
                            "#f0f921"
                          ]
                        ],
                        "type": "heatmapgl"
                      }
                    ],
                    "heatmap": [
                      {
                        "colorbar": {
                          "outlinewidth": 0,
                          "ticks": ""
                        },
                        "colorscale": [
                          [
                            0,
                            "#0d0887"
                          ],
                          [
                            0.1111111111111111,
                            "#46039f"
                          ],
                          [
                            0.2222222222222222,
                            "#7201a8"
                          ],
                          [
                            0.3333333333333333,
                            "#9c179e"
                          ],
                          [
                            0.4444444444444444,
                            "#bd3786"
                          ],
                          [
                            0.5555555555555556,
                            "#d8576b"
                          ],
                          [
                            0.6666666666666666,
                            "#ed7953"
                          ],
                          [
                            0.7777777777777778,
                            "#fb9f3a"
                          ],
                          [
                            0.8888888888888888,
                            "#fdca26"
                          ],
                          [
                            1,
                            "#f0f921"
                          ]
                        ],
                        "type": "heatmap"
                      }
                    ],
                    "histogram2dcontour": [
                      {
                        "colorbar": {
                          "outlinewidth": 0,
                          "ticks": ""
                        },
                        "colorscale": [
                          [
                            0,
                            "#0d0887"
                          ],
                          [
                            0.1111111111111111,
                            "#46039f"
                          ],
                          [
                            0.2222222222222222,
                            "#7201a8"
                          ],
                          [
                            0.3333333333333333,
                            "#9c179e"
                          ],
                          [
                            0.4444444444444444,
                            "#bd3786"
                          ],
                          [
                            0.5555555555555556,
                            "#d8576b"
                          ],
                          [
                            0.6666666666666666,
                            "#ed7953"
                          ],
                          [
                            0.7777777777777778,
                            "#fb9f3a"
                          ],
                          [
                            0.8888888888888888,
                            "#fdca26"
                          ],
                          [
                            1,
                            "#f0f921"
                          ]
                        ],
                        "type": "histogram2dcontour"
                      }
                    ],
                    "histogram2d": [
                      {
                        "colorbar": {
                          "outlinewidth": 0,
                          "ticks": ""
                        },
                        "colorscale": [
                          [
                            0,
                            "#0d0887"
                          ],
                          [
                            0.1111111111111111,
                            "#46039f"
                          ],
                          [
                            0.2222222222222222,
                            "#7201a8"
                          ],
                          [
                            0.3333333333333333,
                            "#9c179e"
                          ],
                          [
                            0.4444444444444444,
                            "#bd3786"
                          ],
                          [
                            0.5555555555555556,
                            "#d8576b"
                          ],
                          [
                            0.6666666666666666,
                            "#ed7953"
                          ],
                          [
                            0.7777777777777778,
                            "#fb9f3a"
                          ],
                          [
                            0.8888888888888888,
                            "#fdca26"
                          ],
                          [
                            1,
                            "#f0f921"
                          ]
                        ],
                        "type": "histogram2d"
                      }
                    ],
                    "histogram": [
                      {
                        "marker": {
                          "pattern": {
                            "fillmode": "overlay",
                            "size": 10,
                            "solidity": 0.2
                          }
                        },
                        "type": "histogram"
                      }
                    ],
                    "mesh3d": [
                      {
                        "colorbar": {
                          "outlinewidth": 0,
                          "ticks": ""
                        },
                        "type": "mesh3d"
                      }
                    ],
                    "parcoords": [
                      {
                        "line": {
                          "colorbar": {
                            "outlinewidth": 0,
                            "ticks": ""
                          }
                        },
                        "type": "parcoords"
                      }
                    ],
                    "pie": [
                      {
                        "automargin": true,
                        "type": "pie"
                      }
                    ],
                    "scatter3d": [
                      {
                        "line": {
                          "colorbar": {
                            "outlinewidth": 0,
                            "ticks": ""
                          }
                        },
                        "marker": {
                          "colorbar": {
                            "outlinewidth": 0,
                            "ticks": ""
                          }
                        },
                        "type": "scatter3d"
                      }
                    ],
                    "scattercarpet": [
                      {
                        "marker": {
                          "colorbar": {
                            "outlinewidth": 0,
                            "ticks": ""
                          }
                        },
                        "type": "scattercarpet"
                      }
                    ],
                    "scattergeo": [
                      {
                        "marker": {
                          "colorbar": {
                            "outlinewidth": 0,
                            "ticks": ""
                          }
                        },
                        "type": "scattergeo"
                      }
                    ],
                    "scattergl": [
                      {
                        "marker": {
                          "colorbar": {
                            "outlinewidth": 0,
                            "ticks": ""
                          }
                        },
                        "type": "scattergl"
                      }
                    ],
                    "scattermapbox": [
                      {
                        "marker": {
                          "colorbar": {
                            "outlinewidth": 0,
                            "ticks": ""
                          }
                        },
                        "type": "scattermapbox"
                      }
                    ],
                    "scatterpolargl": [
                      {
                        "marker": {
                          "colorbar": {
                            "outlinewidth": 0,
                            "ticks": ""
                          }
                        },
                        "type": "scatterpolargl"
                      }
                    ],
                    "scatterpolar": [
                      {
                        "marker": {
                          "colorbar": {
                            "outlinewidth": 0,
                            "ticks": ""
                          }
                        },
                        "type": "scatterpolar"
                      }
                    ],
                    "scatter": [
                      {
                        "fillpattern": {
                          "fillmode": "overlay",
                          "size": 10,
                          "solidity": 0.2
                        },
                        "type": "scatter"
                      }
                    ],
                    "scatterternary": [
                      {
                        "marker": {
                          "colorbar": {
                            "outlinewidth": 0,
                            "ticks": ""
                          }
                        },
                        "type": "scatterternary"
                      }
                    ],
                    "surface": [
                      {
                        "colorbar": {
                          "outlinewidth": 0,
                          "ticks": ""
                        },
                        "colorscale": [
                          [
                            0,
                            "#0d0887"
                          ],
                          [
                            0.1111111111111111,
                            "#46039f"
                          ],
                          [
                            0.2222222222222222,
                            "#7201a8"
                          ],
                          [
                            0.3333333333333333,
                            "#9c179e"
                          ],
                          [
                            0.4444444444444444,
                            "#bd3786"
                          ],
                          [
                            0.5555555555555556,
                            "#d8576b"
                          ],
                          [
                            0.6666666666666666,
                            "#ed7953"
                          ],
                          [
                            0.7777777777777778,
                            "#fb9f3a"
                          ],
                          [
                            0.8888888888888888,
                            "#fdca26"
                          ],
                          [
                            1,
                            "#f0f921"
                          ]
                        ],
                        "type": "surface"
                      }
                    ],
                    "table": [
                      {
                        "cells": {
                          "fill": {
                            "color": "#EBF0F8"
                          },
                          "line": {
                            "color": "white"
                          }
                        },
                        "header": {
                          "fill": {
                            "color": "#C8D4E3"
                          },
                          "line": {
                            "color": "white"
                          }
                        },
                        "type": "table"
                      }
                    ]
                  },
                  "layout": {
                    "annotationdefaults": {
                      "arrowcolor": "#2a3f5f",
                      "arrowhead": 0,
                      "arrowwidth": 1
                    },
                    "autotypenumbers": "strict",
                    "coloraxis": {
                      "colorbar": {
                        "outlinewidth": 0,
                        "ticks": ""
                      }
                    },
                    "colorscale": {
                      "diverging": [
                        [
                          0,
                          "#8e0152"
                        ],
                        [
                          0.1,
                          "#c51b7d"
                        ],
                        [
                          0.2,
                          "#de77ae"
                        ],
                        [
                          0.3,
                          "#f1b6da"
                        ],
                        [
                          0.4,
                          "#fde0ef"
                        ],
                        [
                          0.5,
                          "#f7f7f7"
                        ],
                        [
                          0.6,
                          "#e6f5d0"
                        ],
                        [
                          0.7,
                          "#b8e186"
                        ],
                        [
                          0.8,
                          "#7fbc41"
                        ],
                        [
                          0.9,
                          "#4d9221"
                        ],
                        [
                          1,
                          "#276419"
                        ]
                      ],
                      "sequential": [
                        [
                          0,
                          "#0d0887"
                        ],
                        [
                          0.1111111111111111,
                          "#46039f"
                        ],
                        [
                          0.2222222222222222,
                          "#7201a8"
                        ],
                        [
                          0.3333333333333333,
                          "#9c179e"
                        ],
                        [
                          0.4444444444444444,
                          "#bd3786"
                        ],
                        [
                          0.5555555555555556,
                          "#d8576b"
                        ],
                        [
                          0.6666666666666666,
                          "#ed7953"
                        ],
                        [
                          0.7777777777777778,
                          "#fb9f3a"
                        ],
                        [
                          0.8888888888888888,
                          "#fdca26"
                        ],
                        [
                          1,
                          "#f0f921"
                        ]
                      ],
                      "sequentialminus": [
                        [
                          0,
                          "#0d0887"
                        ],
                        [
                          0.1111111111111111,
                          "#46039f"
                        ],
                        [
                          0.2222222222222222,
                          "#7201a8"
                        ],
                        [
                          0.3333333333333333,
                          "#9c179e"
                        ],
                        [
                          0.4444444444444444,
                          "#bd3786"
                        ],
                        [
                          0.5555555555555556,
                          "#d8576b"
                        ],
                        [
                          0.6666666666666666,
                          "#ed7953"
                        ],
                        [
                          0.7777777777777778,
                          "#fb9f3a"
                        ],
                        [
                          0.8888888888888888,
                          "#fdca26"
                        ],
                        [
                          1,
                          "#f0f921"
                        ]
                      ]
                    },
                    "colorway": [
                      "#636efa",
                      "#EF553B",
                      "#00cc96",
                      "#ab63fa",
                      "#FFA15A",
                      "#19d3f3",
                      "#FF6692",
                      "#B6E880",
                      "#FF97FF",
                      "#FECB52"
                    ],
                    "font": {
                      "color": "#2a3f5f"
                    },
                    "geo": {
                      "bgcolor": "white",
                      "lakecolor": "white",
                      "landcolor": "white",
                      "showlakes": true,
                      "showland": true,
                      "subunitcolor": "#C8D4E3"
                    },
                    "hoverlabel": {
                      "align": "left"
                    },
                    "hovermode": "closest",
                    "mapbox": {
                      "style": "light"
                    },
                    "paper_bgcolor": "white",
                    "plot_bgcolor": "white",
                    "polar": {
                      "angularaxis": {
                        "gridcolor": "#EBF0F8",
                        "linecolor": "#EBF0F8",
                        "ticks": ""
                      },
                      "bgcolor": "white",
                      "radialaxis": {
                        "gridcolor": "#EBF0F8",
                        "linecolor": "#EBF0F8",
                        "ticks": ""
                      }
                    },
                    "scene": {
                      "xaxis": {
                        "backgroundcolor": "white",
                        "gridcolor": "#DFE8F3",
                        "gridwidth": 2,
                        "linecolor": "#EBF0F8",
                        "showbackground": true,
                        "ticks": "",
                        "zerolinecolor": "#EBF0F8"
                      },
                      "yaxis": {
                        "backgroundcolor": "white",
                        "gridcolor": "#DFE8F3",
                        "gridwidth": 2,
                        "linecolor": "#EBF0F8",
                        "showbackground": true,
                        "ticks": "",
                        "zerolinecolor": "#EBF0F8"
                      },
                      "zaxis": {
                        "backgroundcolor": "white",
                        "gridcolor": "#DFE8F3",
                        "gridwidth": 2,
                        "linecolor": "#EBF0F8",
                        "showbackground": true,
                        "ticks": "",
                        "zerolinecolor": "#EBF0F8"
                      }
                    },
                    "shapedefaults": {
                      "line": {
                        "color": "#2a3f5f"
                      }
                    },
                    "ternary": {
                      "aaxis": {
                        "gridcolor": "#DFE8F3",
                        "linecolor": "#A2B1C6",
                        "ticks": ""
                      },
                      "baxis": {
                        "gridcolor": "#DFE8F3",
                        "linecolor": "#A2B1C6",
                        "ticks": ""
                      },
                      "bgcolor": "white",
                      "caxis": {
                        "gridcolor": "#DFE8F3",
                        "linecolor": "#A2B1C6",
                        "ticks": ""
                      }
                    },
                    "title": {
                      "x": 0.05
                    },
                    "xaxis": {
                      "automargin": true,
                      "gridcolor": "#EBF0F8",
                      "linecolor": "#EBF0F8",
                      "ticks": "",
                      "title": {
                        "standoff": 15
                      },
                      "zerolinecolor": "#EBF0F8",
                      "zerolinewidth": 2
                    },
                    "yaxis": {
                      "automargin": true,
                      "gridcolor": "#EBF0F8",
                      "linecolor": "#EBF0F8",
                      "ticks": "",
                      "title": {
                        "standoff": 15
                      },
                      "zerolinecolor": "#EBF0F8",
                      "zerolinewidth": 2
                    }
                  }
                },
                "barmode": "stack",
                "title": {
                  "text": "Preference by Investment Avenue and Gender"
                },
                "xaxis": {
                  "title": {
                    "text": "Investment Avenues"
                  }
                },
                "yaxis": {
                  "title": {
                    "text": "Preference"
                  }
                },
                "legend": {
                  "title": {
                    "text": "Gender"
                  }
                }
              },
              "config": {
                "plotlyServerURL": "https://plot.ly"
              }
            },
            "text/html": "<div>                            <div id=\"03755404-b6f4-4ad3-98b7-e4c6684c678f\" class=\"plotly-graph-div\" style=\"height:525px; width:100%;\"></div>            <script type=\"text/javascript\">                require([\"plotly\"], function(Plotly) {                    window.PLOTLYENV=window.PLOTLYENV || {};                                    if (document.getElementById(\"03755404-b6f4-4ad3-98b7-e4c6684c678f\")) {                    Plotly.newPlot(                        \"03755404-b6f4-4ad3-98b7-e4c6684c678f\",                        [{\"hoverinfo\":\"text\",\"name\":\"Male\",\"text\":\"Male: 70\",\"x\":[\"Gold\"],\"y\":[70],\"type\":\"bar\"},{\"hoverinfo\":\"text\",\"name\":\"Female\",\"text\":\"Female: 60\",\"x\":[\"Gold\"],\"y\":[60],\"type\":\"bar\"},{\"hoverinfo\":\"text\",\"name\":\"Male\",\"text\":\"Male: 40\",\"x\":[\"Government_Bonds\"],\"y\":[40],\"type\":\"bar\"},{\"hoverinfo\":\"text\",\"name\":\"Female\",\"text\":\"Female: 50\",\"x\":[\"Government_Bonds\"],\"y\":[50],\"type\":\"bar\"},{\"hoverinfo\":\"text\",\"name\":\"Male\",\"text\":\"Male: 80\",\"x\":[\"Mutual_Funds\"],\"y\":[80],\"type\":\"bar\"},{\"hoverinfo\":\"text\",\"name\":\"Female\",\"text\":\"Female: 30\",\"x\":[\"Mutual_Funds\"],\"y\":[30],\"type\":\"bar\"},{\"hoverinfo\":\"text\",\"name\":\"Male\",\"text\":\"Male: 90\",\"x\":[\"Equity_Market\"],\"y\":[90],\"type\":\"bar\"},{\"hoverinfo\":\"text\",\"name\":\"Female\",\"text\":\"Female: 20\",\"x\":[\"Equity_Market\"],\"y\":[20],\"type\":\"bar\"},{\"hoverinfo\":\"text\",\"name\":\"Male\",\"text\":\"Male: 10\",\"x\":[\"PPF\"],\"y\":[10],\"type\":\"bar\"},{\"hoverinfo\":\"text\",\"name\":\"Female\",\"text\":\"Female: 40\",\"x\":[\"PPF\"],\"y\":[40],\"type\":\"bar\"}],                        {\"template\":{\"data\":{\"barpolar\":[{\"marker\":{\"line\":{\"color\":\"white\",\"width\":0.5},\"pattern\":{\"fillmode\":\"overlay\",\"size\":10,\"solidity\":0.2}},\"type\":\"barpolar\"}],\"bar\":[{\"error_x\":{\"color\":\"#2a3f5f\"},\"error_y\":{\"color\":\"#2a3f5f\"},\"marker\":{\"line\":{\"color\":\"white\",\"width\":0.5},\"pattern\":{\"fillmode\":\"overlay\",\"size\":10,\"solidity\":0.2}},\"type\":\"bar\"}],\"carpet\":[{\"aaxis\":{\"endlinecolor\":\"#2a3f5f\",\"gridcolor\":\"#C8D4E3\",\"linecolor\":\"#C8D4E3\",\"minorgridcolor\":\"#C8D4E3\",\"startlinecolor\":\"#2a3f5f\"},\"baxis\":{\"endlinecolor\":\"#2a3f5f\",\"gridcolor\":\"#C8D4E3\",\"linecolor\":\"#C8D4E3\",\"minorgridcolor\":\"#C8D4E3\",\"startlinecolor\":\"#2a3f5f\"},\"type\":\"carpet\"}],\"choropleth\":[{\"colorbar\":{\"outlinewidth\":0,\"ticks\":\"\"},\"type\":\"choropleth\"}],\"contourcarpet\":[{\"colorbar\":{\"outlinewidth\":0,\"ticks\":\"\"},\"type\":\"contourcarpet\"}],\"contour\":[{\"colorbar\":{\"outlinewidth\":0,\"ticks\":\"\"},\"colorscale\":[[0.0,\"#0d0887\"],[0.1111111111111111,\"#46039f\"],[0.2222222222222222,\"#7201a8\"],[0.3333333333333333,\"#9c179e\"],[0.4444444444444444,\"#bd3786\"],[0.5555555555555556,\"#d8576b\"],[0.6666666666666666,\"#ed7953\"],[0.7777777777777778,\"#fb9f3a\"],[0.8888888888888888,\"#fdca26\"],[1.0,\"#f0f921\"]],\"type\":\"contour\"}],\"heatmapgl\":[{\"colorbar\":{\"outlinewidth\":0,\"ticks\":\"\"},\"colorscale\":[[0.0,\"#0d0887\"],[0.1111111111111111,\"#46039f\"],[0.2222222222222222,\"#7201a8\"],[0.3333333333333333,\"#9c179e\"],[0.4444444444444444,\"#bd3786\"],[0.5555555555555556,\"#d8576b\"],[0.6666666666666666,\"#ed7953\"],[0.7777777777777778,\"#fb9f3a\"],[0.8888888888888888,\"#fdca26\"],[1.0,\"#f0f921\"]],\"type\":\"heatmapgl\"}],\"heatmap\":[{\"colorbar\":{\"outlinewidth\":0,\"ticks\":\"\"},\"colorscale\":[[0.0,\"#0d0887\"],[0.1111111111111111,\"#46039f\"],[0.2222222222222222,\"#7201a8\"],[0.3333333333333333,\"#9c179e\"],[0.4444444444444444,\"#bd3786\"],[0.5555555555555556,\"#d8576b\"],[0.6666666666666666,\"#ed7953\"],[0.7777777777777778,\"#fb9f3a\"],[0.8888888888888888,\"#fdca26\"],[1.0,\"#f0f921\"]],\"type\":\"heatmap\"}],\"histogram2dcontour\":[{\"colorbar\":{\"outlinewidth\":0,\"ticks\":\"\"},\"colorscale\":[[0.0,\"#0d0887\"],[0.1111111111111111,\"#46039f\"],[0.2222222222222222,\"#7201a8\"],[0.3333333333333333,\"#9c179e\"],[0.4444444444444444,\"#bd3786\"],[0.5555555555555556,\"#d8576b\"],[0.6666666666666666,\"#ed7953\"],[0.7777777777777778,\"#fb9f3a\"],[0.8888888888888888,\"#fdca26\"],[1.0,\"#f0f921\"]],\"type\":\"histogram2dcontour\"}],\"histogram2d\":[{\"colorbar\":{\"outlinewidth\":0,\"ticks\":\"\"},\"colorscale\":[[0.0,\"#0d0887\"],[0.1111111111111111,\"#46039f\"],[0.2222222222222222,\"#7201a8\"],[0.3333333333333333,\"#9c179e\"],[0.4444444444444444,\"#bd3786\"],[0.5555555555555556,\"#d8576b\"],[0.6666666666666666,\"#ed7953\"],[0.7777777777777778,\"#fb9f3a\"],[0.8888888888888888,\"#fdca26\"],[1.0,\"#f0f921\"]],\"type\":\"histogram2d\"}],\"histogram\":[{\"marker\":{\"pattern\":{\"fillmode\":\"overlay\",\"size\":10,\"solidity\":0.2}},\"type\":\"histogram\"}],\"mesh3d\":[{\"colorbar\":{\"outlinewidth\":0,\"ticks\":\"\"},\"type\":\"mesh3d\"}],\"parcoords\":[{\"line\":{\"colorbar\":{\"outlinewidth\":0,\"ticks\":\"\"}},\"type\":\"parcoords\"}],\"pie\":[{\"automargin\":true,\"type\":\"pie\"}],\"scatter3d\":[{\"line\":{\"colorbar\":{\"outlinewidth\":0,\"ticks\":\"\"}},\"marker\":{\"colorbar\":{\"outlinewidth\":0,\"ticks\":\"\"}},\"type\":\"scatter3d\"}],\"scattercarpet\":[{\"marker\":{\"colorbar\":{\"outlinewidth\":0,\"ticks\":\"\"}},\"type\":\"scattercarpet\"}],\"scattergeo\":[{\"marker\":{\"colorbar\":{\"outlinewidth\":0,\"ticks\":\"\"}},\"type\":\"scattergeo\"}],\"scattergl\":[{\"marker\":{\"colorbar\":{\"outlinewidth\":0,\"ticks\":\"\"}},\"type\":\"scattergl\"}],\"scattermapbox\":[{\"marker\":{\"colorbar\":{\"outlinewidth\":0,\"ticks\":\"\"}},\"type\":\"scattermapbox\"}],\"scatterpolargl\":[{\"marker\":{\"colorbar\":{\"outlinewidth\":0,\"ticks\":\"\"}},\"type\":\"scatterpolargl\"}],\"scatterpolar\":[{\"marker\":{\"colorbar\":{\"outlinewidth\":0,\"ticks\":\"\"}},\"type\":\"scatterpolar\"}],\"scatter\":[{\"fillpattern\":{\"fillmode\":\"overlay\",\"size\":10,\"solidity\":0.2},\"type\":\"scatter\"}],\"scatterternary\":[{\"marker\":{\"colorbar\":{\"outlinewidth\":0,\"ticks\":\"\"}},\"type\":\"scatterternary\"}],\"surface\":[{\"colorbar\":{\"outlinewidth\":0,\"ticks\":\"\"},\"colorscale\":[[0.0,\"#0d0887\"],[0.1111111111111111,\"#46039f\"],[0.2222222222222222,\"#7201a8\"],[0.3333333333333333,\"#9c179e\"],[0.4444444444444444,\"#bd3786\"],[0.5555555555555556,\"#d8576b\"],[0.6666666666666666,\"#ed7953\"],[0.7777777777777778,\"#fb9f3a\"],[0.8888888888888888,\"#fdca26\"],[1.0,\"#f0f921\"]],\"type\":\"surface\"}],\"table\":[{\"cells\":{\"fill\":{\"color\":\"#EBF0F8\"},\"line\":{\"color\":\"white\"}},\"header\":{\"fill\":{\"color\":\"#C8D4E3\"},\"line\":{\"color\":\"white\"}},\"type\":\"table\"}]},\"layout\":{\"annotationdefaults\":{\"arrowcolor\":\"#2a3f5f\",\"arrowhead\":0,\"arrowwidth\":1},\"autotypenumbers\":\"strict\",\"coloraxis\":{\"colorbar\":{\"outlinewidth\":0,\"ticks\":\"\"}},\"colorscale\":{\"diverging\":[[0,\"#8e0152\"],[0.1,\"#c51b7d\"],[0.2,\"#de77ae\"],[0.3,\"#f1b6da\"],[0.4,\"#fde0ef\"],[0.5,\"#f7f7f7\"],[0.6,\"#e6f5d0\"],[0.7,\"#b8e186\"],[0.8,\"#7fbc41\"],[0.9,\"#4d9221\"],[1,\"#276419\"]],\"sequential\":[[0.0,\"#0d0887\"],[0.1111111111111111,\"#46039f\"],[0.2222222222222222,\"#7201a8\"],[0.3333333333333333,\"#9c179e\"],[0.4444444444444444,\"#bd3786\"],[0.5555555555555556,\"#d8576b\"],[0.6666666666666666,\"#ed7953\"],[0.7777777777777778,\"#fb9f3a\"],[0.8888888888888888,\"#fdca26\"],[1.0,\"#f0f921\"]],\"sequentialminus\":[[0.0,\"#0d0887\"],[0.1111111111111111,\"#46039f\"],[0.2222222222222222,\"#7201a8\"],[0.3333333333333333,\"#9c179e\"],[0.4444444444444444,\"#bd3786\"],[0.5555555555555556,\"#d8576b\"],[0.6666666666666666,\"#ed7953\"],[0.7777777777777778,\"#fb9f3a\"],[0.8888888888888888,\"#fdca26\"],[1.0,\"#f0f921\"]]},\"colorway\":[\"#636efa\",\"#EF553B\",\"#00cc96\",\"#ab63fa\",\"#FFA15A\",\"#19d3f3\",\"#FF6692\",\"#B6E880\",\"#FF97FF\",\"#FECB52\"],\"font\":{\"color\":\"#2a3f5f\"},\"geo\":{\"bgcolor\":\"white\",\"lakecolor\":\"white\",\"landcolor\":\"white\",\"showlakes\":true,\"showland\":true,\"subunitcolor\":\"#C8D4E3\"},\"hoverlabel\":{\"align\":\"left\"},\"hovermode\":\"closest\",\"mapbox\":{\"style\":\"light\"},\"paper_bgcolor\":\"white\",\"plot_bgcolor\":\"white\",\"polar\":{\"angularaxis\":{\"gridcolor\":\"#EBF0F8\",\"linecolor\":\"#EBF0F8\",\"ticks\":\"\"},\"bgcolor\":\"white\",\"radialaxis\":{\"gridcolor\":\"#EBF0F8\",\"linecolor\":\"#EBF0F8\",\"ticks\":\"\"}},\"scene\":{\"xaxis\":{\"backgroundcolor\":\"white\",\"gridcolor\":\"#DFE8F3\",\"gridwidth\":2,\"linecolor\":\"#EBF0F8\",\"showbackground\":true,\"ticks\":\"\",\"zerolinecolor\":\"#EBF0F8\"},\"yaxis\":{\"backgroundcolor\":\"white\",\"gridcolor\":\"#DFE8F3\",\"gridwidth\":2,\"linecolor\":\"#EBF0F8\",\"showbackground\":true,\"ticks\":\"\",\"zerolinecolor\":\"#EBF0F8\"},\"zaxis\":{\"backgroundcolor\":\"white\",\"gridcolor\":\"#DFE8F3\",\"gridwidth\":2,\"linecolor\":\"#EBF0F8\",\"showbackground\":true,\"ticks\":\"\",\"zerolinecolor\":\"#EBF0F8\"}},\"shapedefaults\":{\"line\":{\"color\":\"#2a3f5f\"}},\"ternary\":{\"aaxis\":{\"gridcolor\":\"#DFE8F3\",\"linecolor\":\"#A2B1C6\",\"ticks\":\"\"},\"baxis\":{\"gridcolor\":\"#DFE8F3\",\"linecolor\":\"#A2B1C6\",\"ticks\":\"\"},\"bgcolor\":\"white\",\"caxis\":{\"gridcolor\":\"#DFE8F3\",\"linecolor\":\"#A2B1C6\",\"ticks\":\"\"}},\"title\":{\"x\":0.05},\"xaxis\":{\"automargin\":true,\"gridcolor\":\"#EBF0F8\",\"linecolor\":\"#EBF0F8\",\"ticks\":\"\",\"title\":{\"standoff\":15},\"zerolinecolor\":\"#EBF0F8\",\"zerolinewidth\":2},\"yaxis\":{\"automargin\":true,\"gridcolor\":\"#EBF0F8\",\"linecolor\":\"#EBF0F8\",\"ticks\":\"\",\"title\":{\"standoff\":15},\"zerolinecolor\":\"#EBF0F8\",\"zerolinewidth\":2}}},\"barmode\":\"stack\",\"title\":{\"text\":\"Preference by Investment Avenue and Gender\"},\"xaxis\":{\"title\":{\"text\":\"Investment Avenues\"}},\"yaxis\":{\"title\":{\"text\":\"Preference\"}},\"legend\":{\"title\":{\"text\":\"Gender\"}}},                        {\"responsive\": true}                    ).then(function(){\n                            \nvar gd = document.getElementById('03755404-b6f4-4ad3-98b7-e4c6684c678f');\nvar x = new MutationObserver(function (mutations, observer) {{\n        var display = window.getComputedStyle(gd).display;\n        if (!display || display === 'none') {{\n            console.log([gd, 'removed!']);\n            Plotly.purge(gd);\n            observer.disconnect();\n        }}\n}});\n\n// Listen for the removal of the full notebook cells\nvar notebookContainer = gd.closest('#notebook-container');\nif (notebookContainer) {{\n    x.observe(notebookContainer, {childList: true});\n}}\n\n// Listen for the clearing of the current output cell\nvar outputEl = gd.closest('.output');\nif (outputEl) {{\n    x.observe(outputEl, {childList: true});\n}}\n\n                        })                };                });            </script>        </div>"
          },
          "metadata": {}
        }
      ],
      "metadata": {
        "jupyter": {
          "source_hidden": false,
          "outputs_hidden": false
        },
        "nteract": {
          "transient": {
            "deleting": false
          }
        }
      },
      "source": [
        "import pandas as pd\r\n",
        "import plotly.graph_objects as go\r\n",
        "\r\n",
        "# Corrected sample DataFrame creation with same length for each column\r\n",
        "data = {\r\n",
        "    'Investment_Avenues': ['Gold', 'Gold', 'Government_Bonds', 'Government_Bonds', 'Mutual_Funds', 'Mutual_Funds', 'Equity_Market', 'Equity_Market', 'PPF', 'PPF'],\r\n",
        "    'Gender': ['Male', 'Female', 'Male', 'Female', 'Male', 'Female', 'Male', 'Female', 'Male', 'Female'],\r\n",
        "    'Preference': [70, 60, 40, 50, 80, 30, 90, 20, 10, 40]\r\n",
        "}\r\n",
        "\r\n",
        "# Create DataFrame\r\n",
        "df = pd.DataFrame(data)\r\n",
        "\r\n",
        "# Define unique categories\r\n",
        "investment_avenues = df['Investment_Avenues'].unique()\r\n",
        "genders = df['Gender'].unique()\r\n",
        "\r\n",
        "# Prepare data for the stacked bar plot\r\n",
        "bars = []\r\n",
        "for avenue in investment_avenues:\r\n",
        "    for gender in genders:\r\n",
        "        filtered_values = df[(df['Investment_Avenues'] == avenue) & (df['Gender'] == gender)]['Preference'].values\r\n",
        "        value = filtered_values[0] if filtered_values.size > 0 else 0  # default to 0 if no data\r\n",
        "        bars.append(go.Bar(\r\n",
        "            x=[avenue],\r\n",
        "            y=[value],\r\n",
        "            name=gender,\r\n",
        "            text=f'{gender}: {value}',\r\n",
        "            hoverinfo='text'\r\n",
        "        ))\r\n",
        "\r\n",
        "# Create the figure for the stacked bar chart\r\n",
        "fig = go.Figure(data=bars)\r\n",
        "\r\n",
        "# Update layout for better visualization\r\n",
        "fig.update_layout(\r\n",
        "    barmode='stack',\r\n",
        "    title='Preference by Investment Avenue and Gender',\r\n",
        "    xaxis_title='Investment Avenues',\r\n",
        "    yaxis_title='Preference',\r\n",
        "    legend_title='Gender',\r\n",
        "    template='plotly_white'\r\n",
        ")\r\n",
        "\r\n",
        "# Show the figure\r\n",
        "fig.show()"
      ]
    },
    {
      "cell_type": "markdown",
      "metadata": {
        "nteract": {
          "transient": {
            "deleting": false
          }
        }
      },
      "source": [
        "###  Visualize the reasons for investment choices in a Radial Bar Chart / Polar Chart\r\n",
        "Description: This chart type can help visualize the reasons for investment choices in a circular layout, which can be visually engaging.\r\n",
        "Particularly effective when you have a smaller number of categories to represent the reasons."
      ]
    },
    {
      "cell_type": "code",
      "execution_count": 43,
      "outputs": [
        {
          "output_type": "display_data",
          "data": {
            "application/vnd.livy.statement-meta+json": {
              "spark_pool": "SPARK1",
              "statement_id": 5,
              "statement_ids": [
                5
              ],
              "state": "finished",
              "livy_statement_state": "available",
              "spark_jobs": null,
              "session_id": "1",
              "normalized_state": "finished",
              "queued_time": "2025-02-10T22:09:02.9651168Z",
              "session_start_time": null,
              "execution_start_time": "2025-02-10T22:09:03.5239531Z",
              "execution_finish_time": "2025-02-10T22:09:04.6297234Z",
              "parent_msg_id": "f1941c4d-b7e0-4c6d-835b-2a8dfb67ed65"
            },
            "text/plain": "StatementMeta(SPARK1, 1, 5, Finished, Available, Finished)"
          },
          "metadata": {}
        },
        {
          "output_type": "display_data",
          "data": {
            "text/plain": "<Figure size 1000x800 with 1 Axes>",
            "image/png": "[encoded data removed]"
          },
          "metadata": {}
        }
      ],
      "metadata": {
        "jupyter": {
          "source_hidden": false,
          "outputs_hidden": false
        },
        "nteract": {
          "transient": {
            "deleting": false
          }
        }
      },
      "source": [
        "import pandas as pd\r\n",
        "import matplotlib.pyplot as plt\r\n",
        "import numpy as np\r\n",
        "\r\n",
        "# Example DataFrame creation with equal lengths\r\n",
        "data = {\r\n",
        "    \"Reason_Equity\": [\"Growth\", \"Safety\", \"Dividend\", \"Liquidity\"],\r\n",
        "    \"Reason_Mutual\": [\"Convenience\", \"Diversification\", \"Growth\", \"Safety\"],\r\n",
        "    \"Reason_Bonds\": [\"Safety\", \"Income\", \"Low Risk\", \"Liquidity\"],\r\n",
        "    \"Reason_FD\": [\"Safety\", \"Fixed Returns\", \"Liquidity\", \"Growth\"]\r\n",
        "}\r\n",
        "df = pd.DataFrame(data)\r\n",
        "\r\n",
        "# Count occurrences of each reason for each investment type\r\n",
        "equity_reasons = df['Reason_Equity'].value_counts()\r\n",
        "mutual_reasons = df['Reason_Mutual'].value_counts()\r\n",
        "bonds_reasons = df['Reason_Bonds'].value_counts()\r\n",
        "fd_reasons = df['Reason_FD'].value_counts()\r\n",
        "\r\n",
        "# Create a combined DataFrame for plotting\r\n",
        "combined_df = pd.DataFrame({\r\n",
        "    'Reason': equity_reasons.index.union(mutual_reasons.index).union(bonds_reasons.index).union(fd_reasons.index),\r\n",
        "    'Equity': equity_reasons.reindex(equity_reasons.index.union(mutual_reasons.index).union(bonds_reasons.index).union(fd_reasons.index), fill_value=0),\r\n",
        "    'Mutual Funds': mutual_reasons.reindex(equity_reasons.index.union(mutual_reasons.index).union(bonds_reasons.index).union(fd_reasons.index), fill_value=0),\r\n",
        "    'Bonds': bonds_reasons.reindex(equity_reasons.index.union(mutual_reasons.index).union(bonds_reasons.index).union(fd_reasons.index), fill_value=0),\r\n",
        "    'FD': fd_reasons.reindex(equity_reasons.index.union(mutual_reasons.index).union(bonds_reasons.index).union(fd_reasons.index), fill_value=0),\r\n",
        "}).fillna(0)\r\n",
        "\r\n",
        "# Reset index for plotting\r\n",
        "combined_df.reset_index(drop=True, inplace=True)\r\n",
        "\r\n",
        "# Prepare data for polar plot\r\n",
        "values_equity = combined_df['Equity'].values\r\n",
        "values_mutual = combined_df['Mutual Funds'].values\r\n",
        "values_bonds = combined_df['Bonds'].values\r\n",
        "values_fd = combined_df['FD'].values\r\n",
        "\r\n",
        "# Create polar coordinates\r\n",
        "N = len(combined_df['Reason'])\r\n",
        "angles = [n / float(N) * 2 * np.pi for n in range(N)]\r\n",
        "values_equity = np.concatenate((values_equity, [values_equity[0]]))\r\n",
        "values_mutual = np.concatenate((values_mutual, [values_mutual[0]]))\r\n",
        "values_bonds = np.concatenate((values_bonds, [values_bonds[0]]))\r\n",
        "values_fd = np.concatenate((values_fd, [values_fd[0]]))\r\n",
        "angles += angles[:1]\r\n",
        "\r\n",
        "# Plotting\r\n",
        "plt.figure(figsize=(10, 8))\r\n",
        "ax = plt.subplot(111, polar=True)\r\n",
        "\r\n",
        "# Plot each reason\r\n",
        "ax.fill(angles, values_equity, color='red', alpha=0.25, label='Equity')\r\n",
        "ax.fill(angles, values_mutual, color='blue', alpha=0.25, label='Mutual Funds')\r\n",
        "ax.fill(angles, values_bonds, color='green', alpha=0.25, label='Bonds')\r\n",
        "ax.fill(angles, values_fd, color='orange', alpha=0.25, label='FD')\r\n",
        "\r\n",
        "# Set the same angle for each reason\r\n",
        "plt.xticks(angles[:-1], combined_df['Reason'], color='black', size=10)\r\n",
        "\r\n",
        "# Title and legend\r\n",
        "plt.title('Navigating the Investment Landscape: A Polar Perspective', size=15)\r\n",
        "plt.legend(loc='lower right', bbox_to_anchor=(1.1, 0), fontsize=10)\r\n",
        "\r\n",
        "# Show Plot\r\n",
        "plt.show()"
      ]
    },
    {
      "cell_type": "code",
      "execution_count": null,
      "outputs": [],
      "metadata": {
        "jupyter": {
          "source_hidden": false,
          "outputs_hidden": false
        },
        "nteract": {
          "transient": {
            "deleting": false
          }
        }
      },
      "source": [
        "pip install plotly"
      ]
    },
    {
      "cell_type": "code",
      "execution_count": 47,
      "outputs": [
        {
          "output_type": "display_data",
          "data": {
            "application/vnd.livy.statement-meta+json": {
              "spark_pool": "SPARK1",
              "statement_id": 9,
              "statement_ids": [
                9
              ],
              "state": "finished",
              "livy_statement_state": "available",
              "spark_jobs": null,
              "session_id": "1",
              "normalized_state": "finished",
              "queued_time": "2025-02-10T22:20:44.1708019Z",
              "session_start_time": null,
              "execution_start_time": "2025-02-10T22:20:44.2967246Z",
              "execution_finish_time": "2025-02-10T22:20:44.5497947Z",
              "parent_msg_id": "ef9dc773-9787-4cce-a82a-c36bff5246cc"
            },
            "text/plain": "StatementMeta(SPARK1, 1, 9, Finished, Available, Finished)"
          },
          "metadata": {}
        },
        {
          "output_type": "display_data",
          "data": {
            "application/vnd.plotly.v1+json": {
              "data": [
                {
                  "close": [
                    102,
                    107,
                    105,
                    108,
                    106
                  ],
                  "high": [
                    105,
                    108,
                    106,
                    110,
                    107
                  ],
                  "low": [
                    99,
                    100,
                    100,
                    104,
                    103
                  ],
                  "name": "Candlestick Chart",
                  "open": [
                    100,
                    102,
                    101,
                    105,
                    104
                  ],
                  "x": [
                    "2023-01-01T00:00:00",
                    "2023-01-02T00:00:00",
                    "2023-01-03T00:00:00",
                    "2023-01-04T00:00:00",
                    "2023-01-05T00:00:00"
                  ],
                  "type": "candlestick"
                }
              ],
              "layout": {
                "template": {
                  "data": {
                    "histogram2dcontour": [
                      {
                        "type": "histogram2dcontour",
                        "colorbar": {
                          "outlinewidth": 0,
                          "ticks": ""
                        },
                        "colorscale": [
                          [
                            0,
                            "#0d0887"
                          ],
                          [
                            0.1111111111111111,
                            "#46039f"
                          ],
                          [
                            0.2222222222222222,
                            "#7201a8"
                          ],
                          [
                            0.3333333333333333,
                            "#9c179e"
                          ],
                          [
                            0.4444444444444444,
                            "#bd3786"
                          ],
                          [
                            0.5555555555555556,
                            "#d8576b"
                          ],
                          [
                            0.6666666666666666,
                            "#ed7953"
                          ],
                          [
                            0.7777777777777778,
                            "#fb9f3a"
                          ],
                          [
                            0.8888888888888888,
                            "#fdca26"
                          ],
                          [
                            1,
                            "#f0f921"
                          ]
                        ]
                      }
                    ],
                    "choropleth": [
                      {
                        "type": "choropleth",
                        "colorbar": {
                          "outlinewidth": 0,
                          "ticks": ""
                        }
                      }
                    ],
                    "histogram2d": [
                      {
                        "type": "histogram2d",
                        "colorbar": {
                          "outlinewidth": 0,
                          "ticks": ""
                        },
                        "colorscale": [
                          [
                            0,
                            "#0d0887"
                          ],
                          [
                            0.1111111111111111,
                            "#46039f"
                          ],
                          [
                            0.2222222222222222,
                            "#7201a8"
                          ],
                          [
                            0.3333333333333333,
                            "#9c179e"
                          ],
                          [
                            0.4444444444444444,
                            "#bd3786"
                          ],
                          [
                            0.5555555555555556,
                            "#d8576b"
                          ],
                          [
                            0.6666666666666666,
                            "#ed7953"
                          ],
                          [
                            0.7777777777777778,
                            "#fb9f3a"
                          ],
                          [
                            0.8888888888888888,
                            "#fdca26"
                          ],
                          [
                            1,
                            "#f0f921"
                          ]
                        ]
                      }
                    ],
                    "heatmap": [
                      {
                        "type": "heatmap",
                        "colorbar": {
                          "outlinewidth": 0,
                          "ticks": ""
                        },
                        "colorscale": [
                          [
                            0,
                            "#0d0887"
                          ],
                          [
                            0.1111111111111111,
                            "#46039f"
                          ],
                          [
                            0.2222222222222222,
                            "#7201a8"
                          ],
                          [
                            0.3333333333333333,
                            "#9c179e"
                          ],
                          [
                            0.4444444444444444,
                            "#bd3786"
                          ],
                          [
                            0.5555555555555556,
                            "#d8576b"
                          ],
                          [
                            0.6666666666666666,
                            "#ed7953"
                          ],
                          [
                            0.7777777777777778,
                            "#fb9f3a"
                          ],
                          [
                            0.8888888888888888,
                            "#fdca26"
                          ],
                          [
                            1,
                            "#f0f921"
                          ]
                        ]
                      }
                    ],
                    "heatmapgl": [
                      {
                        "type": "heatmapgl",
                        "colorbar": {
                          "outlinewidth": 0,
                          "ticks": ""
                        },
                        "colorscale": [
                          [
                            0,
                            "#0d0887"
                          ],
                          [
                            0.1111111111111111,
                            "#46039f"
                          ],
                          [
                            0.2222222222222222,
                            "#7201a8"
                          ],
                          [
                            0.3333333333333333,
                            "#9c179e"
                          ],
                          [
                            0.4444444444444444,
                            "#bd3786"
                          ],
                          [
                            0.5555555555555556,
                            "#d8576b"
                          ],
                          [
                            0.6666666666666666,
                            "#ed7953"
                          ],
                          [
                            0.7777777777777778,
                            "#fb9f3a"
                          ],
                          [
                            0.8888888888888888,
                            "#fdca26"
                          ],
                          [
                            1,
                            "#f0f921"
                          ]
                        ]
                      }
                    ],
                    "contourcarpet": [
                      {
                        "type": "contourcarpet",
                        "colorbar": {
                          "outlinewidth": 0,
                          "ticks": ""
                        }
                      }
                    ],
                    "contour": [
                      {
                        "type": "contour",
                        "colorbar": {
                          "outlinewidth": 0,
                          "ticks": ""
                        },
                        "colorscale": [
                          [
                            0,
                            "#0d0887"
                          ],
                          [
                            0.1111111111111111,
                            "#46039f"
                          ],
                          [
                            0.2222222222222222,
                            "#7201a8"
                          ],
                          [
                            0.3333333333333333,
                            "#9c179e"
                          ],
                          [
                            0.4444444444444444,
                            "#bd3786"
                          ],
                          [
                            0.5555555555555556,
                            "#d8576b"
                          ],
                          [
                            0.6666666666666666,
                            "#ed7953"
                          ],
                          [
                            0.7777777777777778,
                            "#fb9f3a"
                          ],
                          [
                            0.8888888888888888,
                            "#fdca26"
                          ],
                          [
                            1,
                            "#f0f921"
                          ]
                        ]
                      }
                    ],
                    "surface": [
                      {
                        "type": "surface",
                        "colorbar": {
                          "outlinewidth": 0,
                          "ticks": ""
                        },
                        "colorscale": [
                          [
                            0,
                            "#0d0887"
                          ],
                          [
                            0.1111111111111111,
                            "#46039f"
                          ],
                          [
                            0.2222222222222222,
                            "#7201a8"
                          ],
                          [
                            0.3333333333333333,
                            "#9c179e"
                          ],
                          [
                            0.4444444444444444,
                            "#bd3786"
                          ],
                          [
                            0.5555555555555556,
                            "#d8576b"
                          ],
                          [
                            0.6666666666666666,
                            "#ed7953"
                          ],
                          [
                            0.7777777777777778,
                            "#fb9f3a"
                          ],
                          [
                            0.8888888888888888,
                            "#fdca26"
                          ],
                          [
                            1,
                            "#f0f921"
                          ]
                        ]
                      }
                    ],
                    "mesh3d": [
                      {
                        "type": "mesh3d",
                        "colorbar": {
                          "outlinewidth": 0,
                          "ticks": ""
                        }
                      }
                    ],
                    "scatter": [
                      {
                        "fillpattern": {
                          "fillmode": "overlay",
                          "size": 10,
                          "solidity": 0.2
                        },
                        "type": "scatter"
                      }
                    ],
                    "parcoords": [
                      {
                        "type": "parcoords",
                        "line": {
                          "colorbar": {
                            "outlinewidth": 0,
                            "ticks": ""
                          }
                        }
                      }
                    ],
                    "scatterpolargl": [
                      {
                        "type": "scatterpolargl",
                        "marker": {
                          "colorbar": {
                            "outlinewidth": 0,
                            "ticks": ""
                          }
                        }
                      }
                    ],
                    "bar": [
                      {
                        "error_x": {
                          "color": "#2a3f5f"
                        },
                        "error_y": {
                          "color": "#2a3f5f"
                        },
                        "marker": {
                          "line": {
                            "color": "#E5ECF6",
                            "width": 0.5
                          },
                          "pattern": {
                            "fillmode": "overlay",
                            "size": 10,
                            "solidity": 0.2
                          }
                        },
                        "type": "bar"
                      }
                    ],
                    "scattergeo": [
                      {
                        "type": "scattergeo",
                        "marker": {
                          "colorbar": {
                            "outlinewidth": 0,
                            "ticks": ""
                          }
                        }
                      }
                    ],
                    "scatterpolar": [
                      {
                        "type": "scatterpolar",
                        "marker": {
                          "colorbar": {
                            "outlinewidth": 0,
                            "ticks": ""
                          }
                        }
                      }
                    ],
                    "histogram": [
                      {
                        "marker": {
                          "pattern": {
                            "fillmode": "overlay",
                            "size": 10,
                            "solidity": 0.2
                          }
                        },
                        "type": "histogram"
                      }
                    ],
                    "scattergl": [
                      {
                        "type": "scattergl",
                        "marker": {
                          "colorbar": {
                            "outlinewidth": 0,
                            "ticks": ""
                          }
                        }
                      }
                    ],
                    "scatter3d": [
                      {
                        "type": "scatter3d",
                        "line": {
                          "colorbar": {
                            "outlinewidth": 0,
                            "ticks": ""
                          }
                        },
                        "marker": {
                          "colorbar": {
                            "outlinewidth": 0,
                            "ticks": ""
                          }
                        }
                      }
                    ],
                    "scattermapbox": [
                      {
                        "type": "scattermapbox",
                        "marker": {
                          "colorbar": {
                            "outlinewidth": 0,
                            "ticks": ""
                          }
                        }
                      }
                    ],
                    "scatterternary": [
                      {
                        "type": "scatterternary",
                        "marker": {
                          "colorbar": {
                            "outlinewidth": 0,
                            "ticks": ""
                          }
                        }
                      }
                    ],
                    "scattercarpet": [
                      {
                        "type": "scattercarpet",
                        "marker": {
                          "colorbar": {
                            "outlinewidth": 0,
                            "ticks": ""
                          }
                        }
                      }
                    ],
                    "carpet": [
                      {
                        "aaxis": {
                          "endlinecolor": "#2a3f5f",
                          "gridcolor": "white",
                          "linecolor": "white",
                          "minorgridcolor": "white",
                          "startlinecolor": "#2a3f5f"
                        },
                        "baxis": {
                          "endlinecolor": "#2a3f5f",
                          "gridcolor": "white",
                          "linecolor": "white",
                          "minorgridcolor": "white",
                          "startlinecolor": "#2a3f5f"
                        },
                        "type": "carpet"
                      }
                    ],
                    "table": [
                      {
                        "cells": {
                          "fill": {
                            "color": "#EBF0F8"
                          },
                          "line": {
                            "color": "white"
                          }
                        },
                        "header": {
                          "fill": {
                            "color": "#C8D4E3"
                          },
                          "line": {
                            "color": "white"
                          }
                        },
                        "type": "table"
                      }
                    ],
                    "barpolar": [
                      {
                        "marker": {
                          "line": {
                            "color": "#E5ECF6",
                            "width": 0.5
                          },
                          "pattern": {
                            "fillmode": "overlay",
                            "size": 10,
                            "solidity": 0.2
                          }
                        },
                        "type": "barpolar"
                      }
                    ],
                    "pie": [
                      {
                        "automargin": true,
                        "type": "pie"
                      }
                    ]
                  },
                  "layout": {
                    "autotypenumbers": "strict",
                    "colorway": [
                      "#636efa",
                      "#EF553B",
                      "#00cc96",
                      "#ab63fa",
                      "#FFA15A",
                      "#19d3f3",
                      "#FF6692",
                      "#B6E880",
                      "#FF97FF",
                      "#FECB52"
                    ],
                    "font": {
                      "color": "#2a3f5f"
                    },
                    "hovermode": "closest",
                    "hoverlabel": {
                      "align": "left"
                    },
                    "paper_bgcolor": "white",
                    "plot_bgcolor": "#E5ECF6",
                    "polar": {
                      "bgcolor": "#E5ECF6",
                      "angularaxis": {
                        "gridcolor": "white",
                        "linecolor": "white",
                        "ticks": ""
                      },
                      "radialaxis": {
                        "gridcolor": "white",
                        "linecolor": "white",
                        "ticks": ""
                      }
                    },
                    "ternary": {
                      "bgcolor": "#E5ECF6",
                      "aaxis": {
                        "gridcolor": "white",
                        "linecolor": "white",
                        "ticks": ""
                      },
                      "baxis": {
                        "gridcolor": "white",
                        "linecolor": "white",
                        "ticks": ""
                      },
                      "caxis": {
                        "gridcolor": "white",
                        "linecolor": "white",
                        "ticks": ""
                      }
                    },
                    "coloraxis": {
                      "colorbar": {
                        "outlinewidth": 0,
                        "ticks": ""
                      }
                    },
                    "colorscale": {
                      "sequential": [
                        [
                          0,
                          "#0d0887"
                        ],
                        [
                          0.1111111111111111,
                          "#46039f"
                        ],
                        [
                          0.2222222222222222,
                          "#7201a8"
                        ],
                        [
                          0.3333333333333333,
                          "#9c179e"
                        ],
                        [
                          0.4444444444444444,
                          "#bd3786"
                        ],
                        [
                          0.5555555555555556,
                          "#d8576b"
                        ],
                        [
                          0.6666666666666666,
                          "#ed7953"
                        ],
                        [
                          0.7777777777777778,
                          "#fb9f3a"
                        ],
                        [
                          0.8888888888888888,
                          "#fdca26"
                        ],
                        [
                          1,
                          "#f0f921"
                        ]
                      ],
                      "sequentialminus": [
                        [
                          0,
                          "#0d0887"
                        ],
                        [
                          0.1111111111111111,
                          "#46039f"
                        ],
                        [
                          0.2222222222222222,
                          "#7201a8"
                        ],
                        [
                          0.3333333333333333,
                          "#9c179e"
                        ],
                        [
                          0.4444444444444444,
                          "#bd3786"
                        ],
                        [
                          0.5555555555555556,
                          "#d8576b"
                        ],
                        [
                          0.6666666666666666,
                          "#ed7953"
                        ],
                        [
                          0.7777777777777778,
                          "#fb9f3a"
                        ],
                        [
                          0.8888888888888888,
                          "#fdca26"
                        ],
                        [
                          1,
                          "#f0f921"
                        ]
                      ],
                      "diverging": [
                        [
                          0,
                          "#8e0152"
                        ],
                        [
                          0.1,
                          "#c51b7d"
                        ],
                        [
                          0.2,
                          "#de77ae"
                        ],
                        [
                          0.3,
                          "#f1b6da"
                        ],
                        [
                          0.4,
                          "#fde0ef"
                        ],
                        [
                          0.5,
                          "#f7f7f7"
                        ],
                        [
                          0.6,
                          "#e6f5d0"
                        ],
                        [
                          0.7,
                          "#b8e186"
                        ],
                        [
                          0.8,
                          "#7fbc41"
                        ],
                        [
                          0.9,
                          "#4d9221"
                        ],
                        [
                          1,
                          "#276419"
                        ]
                      ]
                    },
                    "xaxis": {
                      "gridcolor": "white",
                      "linecolor": "white",
                      "ticks": "",
                      "title": {
                        "standoff": 15
                      },
                      "zerolinecolor": "white",
                      "automargin": true,
                      "zerolinewidth": 2
                    },
                    "yaxis": {
                      "gridcolor": "white",
                      "linecolor": "white",
                      "ticks": "",
                      "title": {
                        "standoff": 15
                      },
                      "zerolinecolor": "white",
                      "automargin": true,
                      "zerolinewidth": 2
                    },
                    "scene": {
                      "xaxis": {
                        "backgroundcolor": "#E5ECF6",
                        "gridcolor": "white",
                        "linecolor": "white",
                        "showbackground": true,
                        "ticks": "",
                        "zerolinecolor": "white",
                        "gridwidth": 2
                      },
                      "yaxis": {
                        "backgroundcolor": "#E5ECF6",
                        "gridcolor": "white",
                        "linecolor": "white",
                        "showbackground": true,
                        "ticks": "",
                        "zerolinecolor": "white",
                        "gridwidth": 2
                      },
                      "zaxis": {
                        "backgroundcolor": "#E5ECF6",
                        "gridcolor": "white",
                        "linecolor": "white",
                        "showbackground": true,
                        "ticks": "",
                        "zerolinecolor": "white",
                        "gridwidth": 2
                      }
                    },
                    "shapedefaults": {
                      "line": {
                        "color": "#2a3f5f"
                      }
                    },
                    "annotationdefaults": {
                      "arrowcolor": "#2a3f5f",
                      "arrowhead": 0,
                      "arrowwidth": 1
                    },
                    "geo": {
                      "bgcolor": "white",
                      "landcolor": "#E5ECF6",
                      "subunitcolor": "white",
                      "showland": true,
                      "showlakes": true,
                      "lakecolor": "white"
                    },
                    "title": {
                      "x": 0.05
                    },
                    "mapbox": {
                      "style": "light"
                    }
                  }
                },
                "xaxis": {
                  "rangeslider": {
                    "visible": false
                  },
                  "title": {
                    "text": "Date"
                  }
                },
                "title": {
                  "text": "Candlestick Chart of Daily Price Movements"
                },
                "yaxis": {
                  "title": {
                    "text": "Price"
                  }
                }
              },
              "config": {
                "plotlyServerURL": "https://plot.ly"
              }
            },
            "text/html": "<div>                            <div id=\"d633ea30-5e26-419e-96bf-15b2ef19ca5d\" class=\"plotly-graph-div\" style=\"height:525px; width:100%;\"></div>            <script type=\"text/javascript\">                require([\"plotly\"], function(Plotly) {                    window.PLOTLYENV=window.PLOTLYENV || {};                                    if (document.getElementById(\"d633ea30-5e26-419e-96bf-15b2ef19ca5d\")) {                    Plotly.newPlot(                        \"d633ea30-5e26-419e-96bf-15b2ef19ca5d\",                        [{\"close\":[102,107,105,108,106],\"high\":[105,108,106,110,107],\"low\":[99,100,100,104,103],\"name\":\"Candlestick Chart\",\"open\":[100,102,101,105,104],\"x\":[\"2023-01-01T00:00:00\",\"2023-01-02T00:00:00\",\"2023-01-03T00:00:00\",\"2023-01-04T00:00:00\",\"2023-01-05T00:00:00\"],\"type\":\"candlestick\"}],                        {\"template\":{\"data\":{\"histogram2dcontour\":[{\"type\":\"histogram2dcontour\",\"colorbar\":{\"outlinewidth\":0,\"ticks\":\"\"},\"colorscale\":[[0.0,\"#0d0887\"],[0.1111111111111111,\"#46039f\"],[0.2222222222222222,\"#7201a8\"],[0.3333333333333333,\"#9c179e\"],[0.4444444444444444,\"#bd3786\"],[0.5555555555555556,\"#d8576b\"],[0.6666666666666666,\"#ed7953\"],[0.7777777777777778,\"#fb9f3a\"],[0.8888888888888888,\"#fdca26\"],[1.0,\"#f0f921\"]]}],\"choropleth\":[{\"type\":\"choropleth\",\"colorbar\":{\"outlinewidth\":0,\"ticks\":\"\"}}],\"histogram2d\":[{\"type\":\"histogram2d\",\"colorbar\":{\"outlinewidth\":0,\"ticks\":\"\"},\"colorscale\":[[0.0,\"#0d0887\"],[0.1111111111111111,\"#46039f\"],[0.2222222222222222,\"#7201a8\"],[0.3333333333333333,\"#9c179e\"],[0.4444444444444444,\"#bd3786\"],[0.5555555555555556,\"#d8576b\"],[0.6666666666666666,\"#ed7953\"],[0.7777777777777778,\"#fb9f3a\"],[0.8888888888888888,\"#fdca26\"],[1.0,\"#f0f921\"]]}],\"heatmap\":[{\"type\":\"heatmap\",\"colorbar\":{\"outlinewidth\":0,\"ticks\":\"\"},\"colorscale\":[[0.0,\"#0d0887\"],[0.1111111111111111,\"#46039f\"],[0.2222222222222222,\"#7201a8\"],[0.3333333333333333,\"#9c179e\"],[0.4444444444444444,\"#bd3786\"],[0.5555555555555556,\"#d8576b\"],[0.6666666666666666,\"#ed7953\"],[0.7777777777777778,\"#fb9f3a\"],[0.8888888888888888,\"#fdca26\"],[1.0,\"#f0f921\"]]}],\"heatmapgl\":[{\"type\":\"heatmapgl\",\"colorbar\":{\"outlinewidth\":0,\"ticks\":\"\"},\"colorscale\":[[0.0,\"#0d0887\"],[0.1111111111111111,\"#46039f\"],[0.2222222222222222,\"#7201a8\"],[0.3333333333333333,\"#9c179e\"],[0.4444444444444444,\"#bd3786\"],[0.5555555555555556,\"#d8576b\"],[0.6666666666666666,\"#ed7953\"],[0.7777777777777778,\"#fb9f3a\"],[0.8888888888888888,\"#fdca26\"],[1.0,\"#f0f921\"]]}],\"contourcarpet\":[{\"type\":\"contourcarpet\",\"colorbar\":{\"outlinewidth\":0,\"ticks\":\"\"}}],\"contour\":[{\"type\":\"contour\",\"colorbar\":{\"outlinewidth\":0,\"ticks\":\"\"},\"colorscale\":[[0.0,\"#0d0887\"],[0.1111111111111111,\"#46039f\"],[0.2222222222222222,\"#7201a8\"],[0.3333333333333333,\"#9c179e\"],[0.4444444444444444,\"#bd3786\"],[0.5555555555555556,\"#d8576b\"],[0.6666666666666666,\"#ed7953\"],[0.7777777777777778,\"#fb9f3a\"],[0.8888888888888888,\"#fdca26\"],[1.0,\"#f0f921\"]]}],\"surface\":[{\"type\":\"surface\",\"colorbar\":{\"outlinewidth\":0,\"ticks\":\"\"},\"colorscale\":[[0.0,\"#0d0887\"],[0.1111111111111111,\"#46039f\"],[0.2222222222222222,\"#7201a8\"],[0.3333333333333333,\"#9c179e\"],[0.4444444444444444,\"#bd3786\"],[0.5555555555555556,\"#d8576b\"],[0.6666666666666666,\"#ed7953\"],[0.7777777777777778,\"#fb9f3a\"],[0.8888888888888888,\"#fdca26\"],[1.0,\"#f0f921\"]]}],\"mesh3d\":[{\"type\":\"mesh3d\",\"colorbar\":{\"outlinewidth\":0,\"ticks\":\"\"}}],\"scatter\":[{\"fillpattern\":{\"fillmode\":\"overlay\",\"size\":10,\"solidity\":0.2},\"type\":\"scatter\"}],\"parcoords\":[{\"type\":\"parcoords\",\"line\":{\"colorbar\":{\"outlinewidth\":0,\"ticks\":\"\"}}}],\"scatterpolargl\":[{\"type\":\"scatterpolargl\",\"marker\":{\"colorbar\":{\"outlinewidth\":0,\"ticks\":\"\"}}}],\"bar\":[{\"error_x\":{\"color\":\"#2a3f5f\"},\"error_y\":{\"color\":\"#2a3f5f\"},\"marker\":{\"line\":{\"color\":\"#E5ECF6\",\"width\":0.5},\"pattern\":{\"fillmode\":\"overlay\",\"size\":10,\"solidity\":0.2}},\"type\":\"bar\"}],\"scattergeo\":[{\"type\":\"scattergeo\",\"marker\":{\"colorbar\":{\"outlinewidth\":0,\"ticks\":\"\"}}}],\"scatterpolar\":[{\"type\":\"scatterpolar\",\"marker\":{\"colorbar\":{\"outlinewidth\":0,\"ticks\":\"\"}}}],\"histogram\":[{\"marker\":{\"pattern\":{\"fillmode\":\"overlay\",\"size\":10,\"solidity\":0.2}},\"type\":\"histogram\"}],\"scattergl\":[{\"type\":\"scattergl\",\"marker\":{\"colorbar\":{\"outlinewidth\":0,\"ticks\":\"\"}}}],\"scatter3d\":[{\"type\":\"scatter3d\",\"line\":{\"colorbar\":{\"outlinewidth\":0,\"ticks\":\"\"}},\"marker\":{\"colorbar\":{\"outlinewidth\":0,\"ticks\":\"\"}}}],\"scattermapbox\":[{\"type\":\"scattermapbox\",\"marker\":{\"colorbar\":{\"outlinewidth\":0,\"ticks\":\"\"}}}],\"scatterternary\":[{\"type\":\"scatterternary\",\"marker\":{\"colorbar\":{\"outlinewidth\":0,\"ticks\":\"\"}}}],\"scattercarpet\":[{\"type\":\"scattercarpet\",\"marker\":{\"colorbar\":{\"outlinewidth\":0,\"ticks\":\"\"}}}],\"carpet\":[{\"aaxis\":{\"endlinecolor\":\"#2a3f5f\",\"gridcolor\":\"white\",\"linecolor\":\"white\",\"minorgridcolor\":\"white\",\"startlinecolor\":\"#2a3f5f\"},\"baxis\":{\"endlinecolor\":\"#2a3f5f\",\"gridcolor\":\"white\",\"linecolor\":\"white\",\"minorgridcolor\":\"white\",\"startlinecolor\":\"#2a3f5f\"},\"type\":\"carpet\"}],\"table\":[{\"cells\":{\"fill\":{\"color\":\"#EBF0F8\"},\"line\":{\"color\":\"white\"}},\"header\":{\"fill\":{\"color\":\"#C8D4E3\"},\"line\":{\"color\":\"white\"}},\"type\":\"table\"}],\"barpolar\":[{\"marker\":{\"line\":{\"color\":\"#E5ECF6\",\"width\":0.5},\"pattern\":{\"fillmode\":\"overlay\",\"size\":10,\"solidity\":0.2}},\"type\":\"barpolar\"}],\"pie\":[{\"automargin\":true,\"type\":\"pie\"}]},\"layout\":{\"autotypenumbers\":\"strict\",\"colorway\":[\"#636efa\",\"#EF553B\",\"#00cc96\",\"#ab63fa\",\"#FFA15A\",\"#19d3f3\",\"#FF6692\",\"#B6E880\",\"#FF97FF\",\"#FECB52\"],\"font\":{\"color\":\"#2a3f5f\"},\"hovermode\":\"closest\",\"hoverlabel\":{\"align\":\"left\"},\"paper_bgcolor\":\"white\",\"plot_bgcolor\":\"#E5ECF6\",\"polar\":{\"bgcolor\":\"#E5ECF6\",\"angularaxis\":{\"gridcolor\":\"white\",\"linecolor\":\"white\",\"ticks\":\"\"},\"radialaxis\":{\"gridcolor\":\"white\",\"linecolor\":\"white\",\"ticks\":\"\"}},\"ternary\":{\"bgcolor\":\"#E5ECF6\",\"aaxis\":{\"gridcolor\":\"white\",\"linecolor\":\"white\",\"ticks\":\"\"},\"baxis\":{\"gridcolor\":\"white\",\"linecolor\":\"white\",\"ticks\":\"\"},\"caxis\":{\"gridcolor\":\"white\",\"linecolor\":\"white\",\"ticks\":\"\"}},\"coloraxis\":{\"colorbar\":{\"outlinewidth\":0,\"ticks\":\"\"}},\"colorscale\":{\"sequential\":[[0.0,\"#0d0887\"],[0.1111111111111111,\"#46039f\"],[0.2222222222222222,\"#7201a8\"],[0.3333333333333333,\"#9c179e\"],[0.4444444444444444,\"#bd3786\"],[0.5555555555555556,\"#d8576b\"],[0.6666666666666666,\"#ed7953\"],[0.7777777777777778,\"#fb9f3a\"],[0.8888888888888888,\"#fdca26\"],[1.0,\"#f0f921\"]],\"sequentialminus\":[[0.0,\"#0d0887\"],[0.1111111111111111,\"#46039f\"],[0.2222222222222222,\"#7201a8\"],[0.3333333333333333,\"#9c179e\"],[0.4444444444444444,\"#bd3786\"],[0.5555555555555556,\"#d8576b\"],[0.6666666666666666,\"#ed7953\"],[0.7777777777777778,\"#fb9f3a\"],[0.8888888888888888,\"#fdca26\"],[1.0,\"#f0f921\"]],\"diverging\":[[0,\"#8e0152\"],[0.1,\"#c51b7d\"],[0.2,\"#de77ae\"],[0.3,\"#f1b6da\"],[0.4,\"#fde0ef\"],[0.5,\"#f7f7f7\"],[0.6,\"#e6f5d0\"],[0.7,\"#b8e186\"],[0.8,\"#7fbc41\"],[0.9,\"#4d9221\"],[1,\"#276419\"]]},\"xaxis\":{\"gridcolor\":\"white\",\"linecolor\":\"white\",\"ticks\":\"\",\"title\":{\"standoff\":15},\"zerolinecolor\":\"white\",\"automargin\":true,\"zerolinewidth\":2},\"yaxis\":{\"gridcolor\":\"white\",\"linecolor\":\"white\",\"ticks\":\"\",\"title\":{\"standoff\":15},\"zerolinecolor\":\"white\",\"automargin\":true,\"zerolinewidth\":2},\"scene\":{\"xaxis\":{\"backgroundcolor\":\"#E5ECF6\",\"gridcolor\":\"white\",\"linecolor\":\"white\",\"showbackground\":true,\"ticks\":\"\",\"zerolinecolor\":\"white\",\"gridwidth\":2},\"yaxis\":{\"backgroundcolor\":\"#E5ECF6\",\"gridcolor\":\"white\",\"linecolor\":\"white\",\"showbackground\":true,\"ticks\":\"\",\"zerolinecolor\":\"white\",\"gridwidth\":2},\"zaxis\":{\"backgroundcolor\":\"#E5ECF6\",\"gridcolor\":\"white\",\"linecolor\":\"white\",\"showbackground\":true,\"ticks\":\"\",\"zerolinecolor\":\"white\",\"gridwidth\":2}},\"shapedefaults\":{\"line\":{\"color\":\"#2a3f5f\"}},\"annotationdefaults\":{\"arrowcolor\":\"#2a3f5f\",\"arrowhead\":0,\"arrowwidth\":1},\"geo\":{\"bgcolor\":\"white\",\"landcolor\":\"#E5ECF6\",\"subunitcolor\":\"white\",\"showland\":true,\"showlakes\":true,\"lakecolor\":\"white\"},\"title\":{\"x\":0.05},\"mapbox\":{\"style\":\"light\"}}},\"xaxis\":{\"rangeslider\":{\"visible\":false},\"title\":{\"text\":\"Date\"}},\"title\":{\"text\":\"Candlestick Chart of Daily Price Movements\"},\"yaxis\":{\"title\":{\"text\":\"Price\"}}},                        {\"responsive\": true}                    ).then(function(){\n                            \nvar gd = document.getElementById('d633ea30-5e26-419e-96bf-15b2ef19ca5d');\nvar x = new MutationObserver(function (mutations, observer) {{\n        var display = window.getComputedStyle(gd).display;\n        if (!display || display === 'none') {{\n            console.log([gd, 'removed!']);\n            Plotly.purge(gd);\n            observer.disconnect();\n        }}\n}});\n\n// Listen for the removal of the full notebook cells\nvar notebookContainer = gd.closest('#notebook-container');\nif (notebookContainer) {{\n    x.observe(notebookContainer, {childList: true});\n}}\n\n// Listen for the clearing of the current output cell\nvar outputEl = gd.closest('.output');\nif (outputEl) {{\n    x.observe(outputEl, {childList: true});\n}}\n\n                        })                };                });            </script>        </div>"
          },
          "metadata": {}
        }
      ],
      "metadata": {
        "jupyter": {
          "source_hidden": false,
          "outputs_hidden": false
        },
        "nteract": {
          "transient": {
            "deleting": false
          }
        }
      },
      "source": [
        "import pandas as pd\r\n",
        "\r\n",
        "# Example dataset: Date, Open, High, Low, Close\r\n",
        "data = {\r\n",
        "    'Date': ['2023-01-01', '2023-01-02', '2023-01-03', \r\n",
        "             '2023-01-04', '2023-01-05'],\r\n",
        "    'Open': [100, 102, 101, 105, 104],\r\n",
        "    'High': [105, 108, 106, 110, 107],\r\n",
        "    'Low': [99, 100, 100, 104, 103],\r\n",
        "    'Close': [102, 107, 105, 108, 106]\r\n",
        "}\r\n",
        "\r\n",
        "df = pd.DataFrame(data)\r\n",
        "df['Date'] = pd.to_datetime(df['Date'])  # Convert 'Date' to datetime\r\n",
        "\r\n",
        "import plotly.graph_objects as go\r\n",
        "\r\n",
        "# Create the candlestick chart\r\n",
        "fig = go.Figure(data=[go.Candlestick(x=df['Date'],\r\n",
        "                                       open=df['Open'],\r\n",
        "                                       high=df['High'],\r\n",
        "                                       low=df['Low'],\r\n",
        "                                       close=df['Close'],\r\n",
        "                                       name='Candlestick Chart')])\r\n",
        "\r\n",
        "# Update layout for better visualization\r\n",
        "fig.update_layout(title='Candlestick Chart of Daily Price Movements',\r\n",
        "                  xaxis_title='Date',\r\n",
        "                  yaxis_title='Price',\r\n",
        "                  xaxis_rangeslider_visible=False)  # Hide the range slider if you don't need it\r\n",
        "\r\n",
        "\r\n",
        "fig.show()"
      ]
    },
    {
      "cell_type": "code",
      "execution_count": null,
      "outputs": [],
      "metadata": {
        "jupyter": {
          "source_hidden": false,
          "outputs_hidden": false
        },
        "nteract": {
          "transient": {
            "deleting": false
          }
        }
      },
      "source": []
    }
  ]
}